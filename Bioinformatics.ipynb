{
 "cells": [
  {
   "cell_type": "markdown",
   "metadata": {},
   "source": [
    "# Basic Concepts of Python for Bioinformatics:"
   ]
  },
  {
   "cell_type": "markdown",
   "metadata": {},
   "source": [
    "Variables and Data Types"
   ]
  },
  {
   "cell_type": "code",
   "execution_count": 1,
   "metadata": {},
   "outputs": [],
   "source": [
    "name = \"Bioinformatics\"\n",
    "count = 42\n",
    "percentage = 75.5\n",
    "gene_list = [\"GeneA\", \"GeneB\", \"GeneC\"]"
   ]
  },
  {
   "cell_type": "markdown",
   "metadata": {},
   "source": [
    "Control Flow"
   ]
  },
  {
   "cell_type": "code",
   "execution_count": 2,
   "metadata": {},
   "outputs": [
    {
     "name": "stdout",
     "output_type": "stream",
     "text": [
      "Short gene: GeneC\n"
     ]
    }
   ],
   "source": [
    "for gene in gene_list:\n",
    " if len(gene) > 5:\n",
    "  print(gene)\n",
    "else:\n",
    " print(\"Short gene:\", gene)"
   ]
  },
  {
   "cell_type": "markdown",
   "metadata": {},
   "source": [
    "Functions"
   ]
  },
  {
   "cell_type": "code",
   "execution_count": 9,
   "metadata": {},
   "outputs": [],
   "source": [
    "def calculate_gc_content(sequence):\n",
    "    gc_count = sequence.count('G') + sequence.count('C')\n",
    "    total_bases = len(sequence)\n",
    "    gc_content = (gc_count / total_bases) * 100\n",
    "    return gc_content"
   ]
  },
  {
   "cell_type": "markdown",
   "metadata": {},
   "source": [
    "File Handling"
   ]
  },
  {
   "cell_type": "code",
   "execution_count": 3,
   "metadata": {},
   "outputs": [],
   "source": [
    "#with open('sequences.txt', 'r') as file:\n",
    "    #sequences = file.readlines()"
   ]
  },
  {
   "cell_type": "markdown",
   "metadata": {},
   "source": [
    "Bioinformatics Libraries"
   ]
  },
  {
   "cell_type": "code",
   "execution_count": 1,
   "metadata": {},
   "outputs": [],
   "source": [
    "from Bio import SeqIO\n",
    "\n",
    "#sequence_record = SeqIO.read(\"sequence.fasta\", \"fasta\")"
   ]
  },
  {
   "cell_type": "markdown",
   "metadata": {},
   "source": [
    "# Importance of Clean Code and Documentation in Bioinformatics Projects:"
   ]
  },
  {
   "cell_type": "markdown",
   "metadata": {},
   "source": [
    "Readability"
   ]
  },
  {
   "cell_type": "code",
   "execution_count": 3,
   "metadata": {},
   "outputs": [],
   "source": [
    "# Bad\n",
    "#x = dna.count('G') + dna.count('C')\n",
    "\n",
    "# Good\n",
    "#gc_count = dna.count('G') + dna.count('C')"
   ]
  },
  {
   "cell_type": "markdown",
   "metadata": {},
   "source": [
    "Modularity"
   ]
  },
  {
   "cell_type": "code",
   "execution_count": 14,
   "metadata": {},
   "outputs": [],
   "source": [
    "# Bad\n",
    "#def analyze_sequence(data):\n",
    "        # ...\n",
    "\n",
    "# Good\n",
    "#def calculate_gc_content(sequence):\n",
    "    # ...\n",
    "\n",
    "#def analyze_sequence(data):\n",
    "    #gc_content = calculate_gc_content(data)\n",
    "    # ..."
   ]
  },
  {
   "cell_type": "markdown",
   "metadata": {},
   "source": [
    "Documentation"
   ]
  },
  {
   "cell_type": "code",
   "execution_count": 16,
   "metadata": {},
   "outputs": [],
   "source": [
    "def calculate_gc_content(sequence):\n",
    "    \"\"\"\n",
    "Calculate the GC content of a DNA sequence.\n",
    "\n",
    "Parameters:\n",
    "- sequence (str): DNA sequence.\n",
    "\n",
    "Returns:\n",
    "- float: GC content percentage.\n",
    "\"\"\"\n",
    "# ..."
   ]
  },
  {
   "cell_type": "markdown",
   "metadata": {},
   "source": [
    "# Basic Input and Output in Python for Bioinformatics:"
   ]
  },
  {
   "cell_type": "markdown",
   "metadata": {},
   "source": [
    "Input Methods for Biological Data"
   ]
  },
  {
   "cell_type": "markdown",
   "metadata": {},
   "source": [
    "a. Reading from Files"
   ]
  },
  {
   "cell_type": "code",
   "execution_count": 20,
   "metadata": {},
   "outputs": [],
   "source": [
    "from Bio import SeqIO\n",
    "\n",
    "# Reading a FASTA file\n",
    "fasta_file = \"sequence.fasta\"\n",
    "#sequence_record = SeqIO.read(fasta_file, \"fasta\")"
   ]
  },
  {
   "cell_type": "markdown",
   "metadata": {},
   "source": [
    "b. User Input"
   ]
  },
  {
   "cell_type": "code",
   "execution_count": 21,
   "metadata": {},
   "outputs": [],
   "source": [
    "#user_sequence = input(\"Enter a DNA sequence: \")"
   ]
  },
  {
   "cell_type": "markdown",
   "metadata": {},
   "source": [
    "Formatted Output for Interpretation"
   ]
  },
  {
   "cell_type": "markdown",
   "metadata": {},
   "source": [
    "a. Print Statements"
   ]
  },
  {
   "cell_type": "code",
   "execution_count": 1,
   "metadata": {},
   "outputs": [
    {
     "name": "stdout",
     "output_type": "stream",
     "text": [
      "GC Content: 45.2 %\n"
     ]
    }
   ],
   "source": [
    "gc_content = 45.2\n",
    "print(\"GC Content:\", gc_content, \"%\")"
   ]
  },
  {
   "cell_type": "markdown",
   "metadata": {},
   "source": [
    "b. Formatted Strings"
   ]
  },
  {
   "cell_type": "code",
   "execution_count": 2,
   "metadata": {},
   "outputs": [
    {
     "name": "stdout",
     "output_type": "stream",
     "text": [
      "The expression level of GeneA is 2.5 units.\n"
     ]
    }
   ],
   "source": [
    "gene_name = \"GeneA\"\n",
    "expression_level = 2.5\n",
    "\n",
    "output_message = f\"The expression level of {gene_name} is {expression_level} units.\"\n",
    "print(output_message)"
   ]
  },
  {
   "cell_type": "markdown",
   "metadata": {},
   "source": [
    "c. Tabular Data"
   ]
  },
  {
   "cell_type": "code",
   "execution_count": 23,
   "metadata": {},
   "outputs": [
    {
     "name": "stdout",
     "output_type": "stream",
     "text": [
      "Gene\tExpression Level\n",
      "GeneA\t2.5\n",
      "GeneB\t3.1\n",
      "GeneC\t1.8\n"
     ]
    }
   ],
   "source": [
    "genes = [\"GeneA\", \"GeneB\", \"GeneC\"]\n",
    "expression_levels = [2.5, 3.1, 1.8]\n",
    "\n",
    "print(\"Gene\\tExpression Level\")\n",
    "for gene, level in zip(genes, expression_levels):\n",
    "    print(f\"{gene}\\t{level}\")"
   ]
  },
  {
   "cell_type": "code",
   "execution_count": 11,
   "metadata": {},
   "outputs": [],
   "source": [
    "output_file = \"results.txt\"\n",
    "with open(output_file, 'w') as file:\n",
    "    file.write(f\"Gene\\tExpression Level\\n\")\n",
    "    for gene, level in zip(genes, expression_levels):\n",
    "        file.write(f\"{gene}\\t{level}\\n\")"
   ]
  },
  {
   "cell_type": "code",
   "execution_count": 12,
   "metadata": {},
   "outputs": [
    {
     "name": "stdout",
     "output_type": "stream",
     "text": [
      "The genome of Homo sapiens contains 1500 genes.\n"
     ]
    }
   ],
   "source": [
    "organism = \"Homo sapiens\"\n",
    "num_genes = 1500\n",
    "\n",
    "summary_message = f\"The genome of {organism} contains {num_genes} genes.\"\n",
    "print(summary_message)\n",
    "\n"
   ]
  },
  {
   "cell_type": "markdown",
   "metadata": {},
   "source": [
    "# Mathematical Operations in Bioinformatics:"
   ]
  },
  {
   "cell_type": "markdown",
   "metadata": {},
   "source": [
    "GC Content Calculation"
   ]
  },
  {
   "cell_type": "code",
   "execution_count": 15,
   "metadata": {},
   "outputs": [
    {
     "name": "stdout",
     "output_type": "stream",
     "text": [
      "GC Content: 52.94%\n"
     ]
    }
   ],
   "source": [
    "def calculate_gc_content(sequence):\n",
    "    gc_count = sequence.count('G') + sequence.count('C')\n",
    "    total_bases = len(sequence)\n",
    "    gc_content = (gc_count / total_bases) * 100\n",
    "    return gc_content\n",
    "\n",
    "# Example\n",
    "dna_sequence = \"ATGCGATCGATCGTACG\"\n",
    "gc_percentage = calculate_gc_content(dna_sequence)\n",
    "print(f\"GC Content: {gc_percentage:.2f}%\")"
   ]
  },
  {
   "cell_type": "markdown",
   "metadata": {},
   "source": [
    "Transcription Factor Binding Site Analysis"
   ]
  },
  {
   "cell_type": "code",
   "execution_count": 20,
   "metadata": {},
   "outputs": [
    {
     "name": "stdout",
     "output_type": "stream",
     "text": [
      "Motif 'CTAG' found at positions: [9, 13, 17]\n"
     ]
    }
   ],
   "source": [
    "def find_motif_occurrences(sequence, motif):\n",
    "    occurrences = []\n",
    "    i = sequence.find(motif)\n",
    "    while i != -1:\n",
    "        occurrences.append(i)\n",
    "        i = sequence.find(motif, i + 1)\n",
    "    return occurrences\n",
    "\n",
    "# Example\n",
    "gene_sequence = \"ATGCGTACGCTAGCTAGCTAGCG\"\n",
    "motif = \"CTAG\"\n",
    "motif_occurrences = find_motif_occurrences(gene_sequence, motif)\n",
    "print(f\"Motif '{motif}' found at positions: {motif_occurrences}\")"
   ]
  },
  {
   "cell_type": "code",
   "execution_count": 23,
   "metadata": {},
   "outputs": [
    {
     "name": "stdout",
     "output_type": "stream",
     "text": [
      "Defaulting to user installation because normal site-packages is not writeable\n",
      "Requirement already satisfied: numpy in /home/tbkhori_/.local/lib/python3.9/site-packages (2.0.0)\n",
      "Collecting numpy\n",
      "  Downloading numpy-2.0.1-cp39-cp39-manylinux_2_17_x86_64.manylinux2014_x86_64.whl.metadata (60 kB)\n",
      "\u001b[2K     \u001b[90m━━━━━━━━━━━━━━━━━━━━━━━━━━━━━━━━━━━━━━━━\u001b[0m \u001b[32m60.9/60.9 kB\u001b[0m \u001b[31m1.8 MB/s\u001b[0m eta \u001b[36m0:00:00\u001b[0m\n",
      "\u001b[?25hRequirement already satisfied: scipy in /usr/lib/python3/dist-packages (1.6.0)\n",
      "Collecting scipy\n",
      "  Downloading scipy-1.13.1-cp39-cp39-manylinux_2_17_x86_64.manylinux2014_x86_64.whl.metadata (60 kB)\n",
      "\u001b[2K     \u001b[90m━━━━━━━━━━━━━━━━━━━━━━━━━━━━━━━━━━━━━━━━\u001b[0m \u001b[32m60.6/60.6 kB\u001b[0m \u001b[31m6.7 MB/s\u001b[0m eta \u001b[36m0:00:00\u001b[0m\n",
      "\u001b[?25hDownloading numpy-2.0.1-cp39-cp39-manylinux_2_17_x86_64.manylinux2014_x86_64.whl (19.5 MB)\n",
      "\u001b[2K   \u001b[90m━━━━━━━━━━━━━━━━━━━━━━━━━━━━━━━━━━━━━━━━\u001b[0m \u001b[32m19.5/19.5 MB\u001b[0m \u001b[31m15.8 MB/s\u001b[0m eta \u001b[36m0:00:00\u001b[0m00:01\u001b[0m00:01\u001b[0m\n",
      "\u001b[?25hDownloading scipy-1.13.1-cp39-cp39-manylinux_2_17_x86_64.manylinux2014_x86_64.whl (38.6 MB)\n",
      "\u001b[2K   \u001b[90m━━━━━━━━━━━━━━━━━━━━━━━━━━━━━━━━━━━━━━━━\u001b[0m \u001b[32m38.6/38.6 MB\u001b[0m \u001b[31m9.9 MB/s\u001b[0m eta \u001b[36m0:00:00\u001b[0m:00:01\u001b[0m00:01\u001b[0m\n",
      "\u001b[?25h\u001b[33mWARNING: Error parsing dependencies of gpg: Invalid version: '1.14.0-unknown'\u001b[0m\u001b[33m\n",
      "\u001b[0m\u001b[33mWARNING: Error parsing dependencies of wfuzz: Expected end or semicolon (after version specifier)\n",
      "    pyparsing>=2.4*\n",
      "             ~~~~~^\u001b[0m\u001b[33m\n",
      "\u001b[0mInstalling collected packages: numpy, scipy\n",
      "  Attempting uninstall: numpy\n",
      "    Found existing installation: numpy 2.0.0\n",
      "    Uninstalling numpy-2.0.0:\n",
      "      Successfully uninstalled numpy-2.0.0\n",
      "Successfully installed numpy-2.0.1 scipy-1.13.1\n"
     ]
    }
   ],
   "source": [
    "!pip install --upgrade numpy scipy"
   ]
  },
  {
   "cell_type": "markdown",
   "metadata": {},
   "source": [
    "Statistical Analysis"
   ]
  },
  {
   "cell_type": "code",
   "execution_count": 1,
   "metadata": {},
   "outputs": [
    {
     "name": "stdout",
     "output_type": "stream",
     "text": [
      "Mean Condition 1: 2.82\n",
      "Mean Condition 2: 2.12\n",
      "Standard Deviation Condition 1: 0.21\n",
      "Standard Deviation Condition 2: 0.23\n",
      "T-statistic: 4.45\n",
      "P-value: 0.0022\n"
     ]
    }
   ],
   "source": [
    "import numpy as np\n",
    "import scipy\n",
    "from scipy.stats import ttest_ind\n",
    "\n",
    "# Example: Gene expression levels in two conditions\n",
    "condition_1 = np.array([2.5, 3.1, 2.8, 3.0, 2.7])\n",
    "condition_2 = np.array([1.8, 2.2, 2.0, 2.5, 2.1])\n",
    "\n",
    "# Mean and standard deviation\n",
    "mean_condition_1 = np.mean(condition_1)\n",
    "mean_condition_2 = np.mean(condition_2)\n",
    "\n",
    "std_dev_condition_1 = np.std(condition_1)\n",
    "std_dev_condition_2 = np.std(condition_2)\n",
    "\n",
    "# Independent t-test\n",
    "t_stat, p_value = ttest_ind(condition_1, condition_2)\n",
    "\n",
    "print(f\"Mean Condition 1: {mean_condition_1:.2f}\")\n",
    "print(f\"Mean Condition 2: {mean_condition_2:.2f}\")\n",
    "print(f\"Standard Deviation Condition 1: {std_dev_condition_1:.2f}\")\n",
    "print(f\"Standard Deviation Condition 2: {std_dev_condition_2:.2f}\")\n",
    "print(f\"T-statistic: {t_stat:.2f}\")\n",
    "print(f\"P-value: {p_value:.4f}\")"
   ]
  },
  {
   "cell_type": "markdown",
   "metadata": {},
   "source": [
    "Protein Folding"
   ]
  },
  {
   "cell_type": "code",
   "execution_count": 3,
   "metadata": {},
   "outputs": [
    {
     "name": "stdout",
     "output_type": "stream",
     "text": [
      "Protein Folding Energy: 0.0024\n"
     ]
    }
   ],
   "source": [
    "import math\n",
    "\n",
    "def calculate_protein_folding_energy(temperature, entropy_change):\n",
    "    gas_constant = 8.314 # J/(mol*K)\n",
    "    delta_g = -temperature * entropy_change\n",
    "    folding_energy = math.exp(-delta_g / (gas_constant * temperature))\n",
    "    return folding_energy\n",
    "\n",
    "# Example\n",
    "temperature = 298 # in Kelvin\n",
    "entropy_change = -50 # in J/(mol*K)\n",
    "folding_energy = calculate_protein_folding_energy(temperature, entropy_change)\n",
    "print(f\"Protein Folding Energy: {folding_energy:.4f}\")"
   ]
  },
  {
   "cell_type": "markdown",
   "metadata": {},
   "source": [
    "# String Manipulation Techniques in Bioinformatics:"
   ]
  },
  {
   "cell_type": "markdown",
   "metadata": {},
   "source": [
    "Sequence Alignment"
   ]
  },
  {
   "cell_type": "code",
   "execution_count": 4,
   "metadata": {},
   "outputs": [
    {
     "name": "stdout",
     "output_type": "stream",
     "text": [
      "Sequence Alignment:\n",
      "ATGCGTA-CGCTAGCTAGC-TAGCG\n",
      "||||| | ||  |  |  | || ||\n",
      "ATGCG-ATCG--A--T--CGTA-CG\n",
      "  Score=15\n",
      "\n"
     ]
    },
    {
     "name": "stderr",
     "output_type": "stream",
     "text": [
      "/home/tbkhori_/.local/lib/python3.9/site-packages/Bio/pairwise2.py:278: BiopythonDeprecationWarning: Bio.pairwise2 has been deprecated, and we intend to remove it in a future release of Biopython. As an alternative, please consider using Bio.Align.PairwiseAligner as a replacement, and contact the Biopython developers if you still need the Bio.pairwise2 module.\n",
      "  warnings.warn(\n"
     ]
    }
   ],
   "source": [
    "from Bio import pairwise2\n",
    "from Bio.pairwise2 import format_alignment\n",
    "\n",
    "sequence_1 = \"ATGCGTACGCTAGCTAGCTAGCG\"\n",
    "sequence_2 = \"ATGCGATCGATCGTACG\"\n",
    "\n",
    "alignments = pairwise2.align.globalxx(sequence_1, sequence_2, one_alignment_only=True)\n",
    "best_alignment = alignments[0]\n",
    "\n",
    "print(\"Sequence Alignment:\")\n",
    "print(format_alignment(*best_alignment))"
   ]
  },
  {
   "cell_type": "markdown",
   "metadata": {},
   "source": [
    "Reverse Complement"
   ]
  },
  {
   "cell_type": "code",
   "execution_count": 5,
   "metadata": {},
   "outputs": [
    {
     "name": "stdout",
     "output_type": "stream",
     "text": [
      "Original Sequence: ATGCGTACGCTAGCTAGCTAGCG\n",
      "Reverse Complement: CGCTAGCTAGCTAGCGTACGCAT\n"
     ]
    }
   ],
   "source": [
    "def reverse_complement(sequence):\n",
    "    complement = {'A': 'T', 'T': 'A', 'C': 'G', 'G': 'C'}\n",
    "    return ''.join(complement[base] for base in reversed(sequence))\n",
    "\n",
    "# Example\n",
    "dna_sequence = \"ATGCGTACGCTAGCTAGCTAGCG\"\n",
    "rev_comp_sequence = reverse_complement(dna_sequence)\n",
    "print(f\"Original Sequence: {dna_sequence}\")\n",
    "print(f\"Reverse Complement: {rev_comp_sequence}\")"
   ]
  },
  {
   "cell_type": "markdown",
   "metadata": {},
   "source": [
    "Motif Extraction"
   ]
  },
  {
   "cell_type": "code",
   "execution_count": 2,
   "metadata": {},
   "outputs": [
    {
     "name": "stdout",
     "output_type": "stream",
     "text": [
      "Gene Motifs: ['ATG', 'TGC', 'GCG', 'CGT', 'GTA', 'TAC', 'ACG', 'CGC', 'GCT', 'CTA', 'TAG', 'AGC', 'GCT', 'CTA', 'TAG', 'AGC', 'GCT', 'CTA', 'TAG', 'AGC', 'GCG']\n"
     ]
    }
   ],
   "source": [
    "def extract_motifs(sequence, motif_length):\n",
    "    motifs = [sequence[i:i+motif_length] for i in range(len(sequence)-motif_length+1)]\n",
    "    return motifs\n",
    "\n",
    "# Example\n",
    "gene_sequence = \"ATGCGTACGCTAGCTAGCTAGCG\"\n",
    "motif_length = 3\n",
    "gene_motifs = extract_motifs(gene_sequence, motif_length)\n",
    "print(f\"Gene Motifs: {gene_motifs}\")"
   ]
  },
  {
   "cell_type": "markdown",
   "metadata": {},
   "source": [
    "Counting Nucleotides"
   ]
  },
  {
   "cell_type": "code",
   "execution_count": 5,
   "metadata": {},
   "outputs": [
    {
     "name": "stdout",
     "output_type": "stream",
     "text": [
      "Nucleotide Counts:\n",
      "A: 5\n",
      "T: 5\n",
      "C: 6\n",
      "G: 7\n"
     ]
    }
   ],
   "source": [
    "def count_nucleotides(sequence):\n",
    "    nucleotide_counts = {base: sequence.count(base) for base in 'ATCG'}\n",
    "    return nucleotide_counts\n",
    "\n",
    "# Example\n",
    "dna_sequence = \"ATGCGTACGCTAGCTAGCTAGCG\"\n",
    "nucleotide_counts = count_nucleotides(dna_sequence)\n",
    "print(\"Nucleotide Counts:\")\n",
    "for base, count in nucleotide_counts.items():\n",
    "    print(f\"{base}: {count}\")"
   ]
  },
  {
   "cell_type": "markdown",
   "metadata": {},
   "source": [
    "Searching for Motifs"
   ]
  },
  {
   "cell_type": "code",
   "execution_count": 6,
   "metadata": {},
   "outputs": [
    {
     "name": "stdout",
     "output_type": "stream",
     "text": [
      "Motif 'CTAG' found at positions: [9, 13, 17]\n"
     ]
    }
   ],
   "source": [
    "def find_motif_positions(sequence, motif):\n",
    "    positions = [i for i in range(len(sequence)-len(motif)+1) if sequence[i:i+len(motif)] == motif]\n",
    "    return positions\n",
    "\n",
    "# Example\n",
    "gene_sequence = \"ATGCGTACGCTAGCTAGCTAGCG\"\n",
    "motif = \"CTAG\"\n",
    "motif_positions = find_motif_positions(gene_sequence, motif)\n",
    "print(f\"Motif '{motif}' found at positions: {motif_positions}\")"
   ]
  },
  {
   "cell_type": "markdown",
   "metadata": {},
   "source": [
    "Concatenation and Slicing"
   ]
  },
  {
   "cell_type": "code",
   "execution_count": 7,
   "metadata": {},
   "outputs": [
    {
     "name": "stdout",
     "output_type": "stream",
     "text": [
      "Gene Name: geneA\n",
      "Description: description\n"
     ]
    }
   ],
   "source": [
    "header = \">geneA|description\"\n",
    "gene_name = header.split('|')[0][1:]\n",
    "description = header.split('|')[1]\n",
    "\n",
    "print(f\"Gene Name: {gene_name}\")\n",
    "print(f\"Description: {description}\")"
   ]
  },
  {
   "cell_type": "markdown",
   "metadata": {},
   "source": [
    "# Iterable Objects in Python (Dictionaries, Lists, Tuples, Sets)"
   ]
  },
  {
   "cell_type": "markdown",
   "metadata": {},
   "source": [
    "Representation of Genetic Information"
   ]
  },
  {
   "cell_type": "code",
   "execution_count": 8,
   "metadata": {},
   "outputs": [
    {
     "name": "stdout",
     "output_type": "stream",
     "text": [
      "Sequence for GeneA: ATGCGTACGCTAGCTAGCTAGCG\n"
     ]
    }
   ],
   "source": [
    "gene_sequences = {\n",
    "\"GeneA\": \"ATGCGTACGCTAGCTAGCTAGCG\",\n",
    "\"GeneB\": \"ATCGATCGATCGTACGTAGCTAGC\",\n",
    "\"GeneC\": \"ATCGATCGATCGATCGATCG\"\n",
    "}\n",
    "\n",
    "# Accessing sequence for GeneA\n",
    "gene_a_sequence = gene_sequences[\"GeneA\"]\n",
    "print(f\"Sequence for GeneA: {gene_a_sequence}\")"
   ]
  },
  {
   "cell_type": "markdown",
   "metadata": {},
   "source": [
    "Gene Annotations"
   ]
  },
  {
   "cell_type": "code",
   "execution_count": null,
   "metadata": {},
   "outputs": [],
   "source": [
    "gene_annotations = {\n",
    "\"GeneA\": {\"length\": 21, \"chromosome\": \"X\", \"start_position\": 1000},\n",
    "\"GeneB\": {\"length\": 24, \"chromosome\": \"Y\", \"start_position\": 1500},\n",
    "\"GeneC\": {\"length\": 18, \"chromosome\": \"2\", \"start_position\": 2000}\n",
    "}\n",
    "\n",
    "# Accessing annotation for GeneB\n",
    "gene_b_annotation = gene_annotations[\"GeneB\"]\n",
    "print(\"Annotation for GeneB:\")\n",
    "for key, value in gene_b_annotation.items():\n",
    "print(f\"{key}: {value}\")"
   ]
  },
  {
   "cell_type": "markdown",
   "metadata": {},
   "source": [
    "Codon Usage Table"
   ]
  },
  {
   "cell_type": "code",
   "execution_count": 9,
   "metadata": {},
   "outputs": [
    {
     "name": "stdout",
     "output_type": "stream",
     "text": [
      "Frequency of GCT codon: 0.1\n"
     ]
    }
   ],
   "source": [
    "codon_usage = {\n",
    "\"ATG\": 0.85,\n",
    "\"TAA\": 0.05,\n",
    "\"TAG\": 0.03,\n",
    "\"TGA\": 0.02,\n",
    "\"GCT\": 0.10,\n",
    "\"GCC\": 0.15,\n",
    "\"GCA\": 0.30,\n",
    "\"GCG\": 0.45\n",
    "}\n",
    "\n",
    "# Accessing frequency for GCT codon\n",
    "gct_frequency = codon_usage.get(\"GCT\", 0)\n",
    "print(f\"Frequency of GCT codon: {gct_frequency}\")"
   ]
  },
  {
   "cell_type": "markdown",
   "metadata": {},
   "source": [
    "Protein Structures"
   ]
  },
  {
   "cell_type": "code",
   "execution_count": 13,
   "metadata": {},
   "outputs": [
    {
     "name": "stdout",
     "output_type": "stream",
     "text": [
      "Information for ProteinC:\n",
      "length: 400\n",
      "secondary_structure: random-coil\n",
      "domains: ['M', 'N', 'O']\n"
     ]
    }
   ],
   "source": [
    "protein_structures = {\n",
    "\"ProteinA\": {\"length\": 300, \"secondary_structure\": \"alpha-helix\", \"domains\": [\"A\", \"B\", \"C\"]},\n",
    "\"ProteinB\": {\"length\": 200, \"secondary_structure\": \"beta-sheet\", \"domains\": [\"X\", \"Y\"]},\n",
    "\"ProteinC\": {\"length\": 400, \"secondary_structure\": \"random-coil\", \"domains\": [\"M\", \"N\", \"O\"]}\n",
    "}\n",
    "\n",
    "# Accessing information for ProteinC\n",
    "protein_c_info = protein_structures.get(\"ProteinC\", {})\n",
    "print(\"Information for ProteinC:\")\n",
    "for key, value in protein_c_info.items():\n",
    "    print(f\"{key}: {value}\")"
   ]
  },
  {
   "cell_type": "markdown",
   "metadata": {},
   "source": [
    "Pathways and Interactions"
   ]
  },
  {
   "cell_type": "code",
   "execution_count": 14,
   "metadata": {},
   "outputs": [
    {
     "name": "stdout",
     "output_type": "stream",
     "text": [
      "Genes in PathwayA: ['GeneA', 'GeneB', 'GeneC']\n"
     ]
    }
   ],
   "source": [
    "pathway_interactions = {\n",
    "\"PathwayA\": {\"genes\": [\"GeneA\", \"GeneB\", \"GeneC\"], \"reactions\": [\"Reaction1\", \"Reaction2\"]},\n",
    "\"PathwayB\": {\"genes\": [\"GeneD\", \"GeneE\"], \"reactions\": [\"Reaction3\", \"Reaction4\"]},\n",
    "\"PathwayC\": {\"genes\": [\"GeneF\"], \"reactions\": [\"Reaction5\"]}\n",
    "}\n",
    "\n",
    "# Accessing genes for PathwayA\n",
    "pathway_a_genes = pathway_interactions.get(\"PathwayA\", {}).get(\"genes\", [])\n",
    "print(f\"Genes in PathwayA: {pathway_a_genes}\")"
   ]
  },
  {
   "cell_type": "markdown",
   "metadata": {},
   "source": [
    "# Usage of Lists in Bioinformatics:"
   ]
  },
  {
   "cell_type": "markdown",
   "metadata": {},
   "source": [
    "List of Genes"
   ]
  },
  {
   "cell_type": "code",
   "execution_count": 15,
   "metadata": {},
   "outputs": [],
   "source": [
    "gene_list = [\"GeneA\", \"GeneB\", \"GeneC\", \"GeneD\", \"GeneE\"]"
   ]
  },
  {
   "cell_type": "markdown",
   "metadata": {},
   "source": [
    "Length Distribution"
   ]
  },
  {
   "cell_type": "code",
   "execution_count": 16,
   "metadata": {},
   "outputs": [
    {
     "name": "stdout",
     "output_type": "stream",
     "text": [
      "Average Gene Length: 1080.00 bp\n",
      "Genes Longer than Average: ['GeneA', 'GeneC']\n"
     ]
    }
   ],
   "source": [
    "gene_lengths = [1200, 800, 1500, 1000, 900]\n",
    "\n",
    "# Calculate average length\n",
    "average_length = sum(gene_lengths) / len(gene_lengths)\n",
    "\n",
    "# Filter genes longer than the average length\n",
    "long_genes = [gene for gene, length in zip(gene_list, gene_lengths) if length > average_length]\n",
    "\n",
    "print(f\"Average Gene Length: {average_length:.2f} bp\")\n",
    "print(f\"Genes Longer than Average: {long_genes}\")"
   ]
  },
  {
   "cell_type": "markdown",
   "metadata": {},
   "source": [
    "Gene Expression Levels"
   ]
  },
  {
   "cell_type": "code",
   "execution_count": 17,
   "metadata": {},
   "outputs": [
    {
     "name": "stdout",
     "output_type": "stream",
     "text": [
      "Original Expression Levels: [2.5, 3.1, 2.8, 3.0, 2.7]\n",
      "Normalized Expression Levels: [0.8064516129032258, 1.0, 0.9032258064516128, 0.9677419354838709, 0.8709677419354839]\n"
     ]
    }
   ],
   "source": [
    "expression_levels = [2.5, 3.1, 2.8, 3.0, 2.7]\n",
    "\n",
    "# Normalize expression levels\n",
    "normalized_levels = [level / max(expression_levels) for level in expression_levels]\n",
    "\n",
    "print(f\"Original Expression Levels: {expression_levels}\")\n",
    "print(f\"Normalized Expression Levels: {normalized_levels}\")"
   ]
  },
  {
   "cell_type": "markdown",
   "metadata": {},
   "source": [
    "Filtering Genes by Expression"
   ]
  },
  {
   "cell_type": "code",
   "execution_count": 18,
   "metadata": {},
   "outputs": [
    {
     "name": "stdout",
     "output_type": "stream",
     "text": [
      "Genes with High Expression: ['GeneB', 'GeneD']\n"
     ]
    }
   ],
   "source": [
    "high_expression_genes = [gene for gene, level in zip(gene_list, expression_levels) if level > 2.8]\n",
    "\n",
    "print(f\"Genes with High Expression: {high_expression_genes}\")"
   ]
  },
  {
   "cell_type": "markdown",
   "metadata": {},
   "source": [
    "# Genomic Coordinates"
   ]
  },
  {
   "cell_type": "code",
   "execution_count": 19,
   "metadata": {},
   "outputs": [
    {
     "name": "stdout",
     "output_type": "stream",
     "text": [
      "Total Genomic Span: 1500 bp\n"
     ]
    }
   ],
   "source": [
    "gene_coordinates = [(1000, 1500), (2000, 2500), (3000, 3500)]\n",
    "\n",
    "# Calculate the total genomic span\n",
    "total_genomic_span = sum(end - start for start, end in gene_coordinates)\n",
    "\n",
    "print(f\"Total Genomic Span: {total_genomic_span} bp\")"
   ]
  },
  {
   "cell_type": "markdown",
   "metadata": {},
   "source": [
    "Sequences in FASTA Format"
   ]
  },
  {
   "cell_type": "code",
   "execution_count": 21,
   "metadata": {},
   "outputs": [
    {
     "name": "stdout",
     "output_type": "stream",
     "text": [
      "Gene Names: ['GeneA', 'GeneB']\n",
      "Sequences: ['ATGCGTACGCTAGCTAGCTAGCG', 'ATCGATCGATCGTACGTAGCTAGC']\n"
     ]
    }
   ],
   "source": [
    "fasta_sequences = [\">GeneA\", \"ATGCGTACGCTAGCTAGCTAGCG\", \">GeneB\", \"ATCGATCGATCGTACGTAGCTAGC\"]\n",
    "\n",
    "# Extract gene names and sequences\n",
    "gene_names = [line[1:] for line in fasta_sequences if line.startswith(\">\")]\n",
    "sequences = [line for line in fasta_sequences if not line.startswith(\">\")]\n",
    "\n",
    "print(f\"Gene Names: {gene_names}\")\n",
    "print(f\"Sequences: {sequences}\")"
   ]
  },
  {
   "cell_type": "markdown",
   "metadata": {},
   "source": [
    "Pathways and Reactions"
   ]
  },
  {
   "cell_type": "code",
   "execution_count": 24,
   "metadata": {},
   "outputs": [
    {
     "name": "stdout",
     "output_type": "stream",
     "text": [
      "Genes in PathwayA: ['GeneC']\n"
     ]
    }
   ],
   "source": [
    "pathway_data = [(\"PathwayA\", [\"GeneA\", \"GeneB\", \"GeneC\"], [\"Reaction1\", \"Reaction2\"]),\n",
    "(\"PathwayB\", [\"GeneD\", \"GeneE\"], [\"Reaction3\", \"Reaction4\"]),\n",
    "(\"PathwayC\", [\"GeneF\"], [\"Reaction5\"])]\n",
    "\n",
    "# Extract genes in PathwayA\n",
    "pathway_a_genes = [gene for pathway, genes, reactions in pathway_data if pathway == \"PathwayA\"]\n",
    "\n",
    "print(f\"Genes in PathwayA: {pathway_a_genes}\")"
   ]
  },
  {
   "cell_type": "markdown",
   "metadata": {},
   "source": [
    "# Immutable Nature of Tuples in Bioinformatics:"
   ]
  },
  {
   "cell_type": "markdown",
   "metadata": {},
   "source": [
    "Storing Coordinates"
   ]
  },
  {
   "cell_type": "code",
   "execution_count": 25,
   "metadata": {},
   "outputs": [],
   "source": [
    "gene_coordinates = ((1000, 1500), (2000, 2500), (3000, 3500))"
   ]
  },
  {
   "cell_type": "markdown",
   "metadata": {},
   "source": [
    "# Pairing Data"
   ]
  },
  {
   "cell_type": "code",
   "execution_count": 26,
   "metadata": {},
   "outputs": [],
   "source": [
    "gene_data = [(\"GeneA\", 2.5), (\"GeneB\", 3.1), (\"GeneC\", 2.8)]"
   ]
  },
  {
   "cell_type": "markdown",
   "metadata": {},
   "source": [
    "Positional Information"
   ]
  },
  {
   "cell_type": "code",
   "execution_count": 27,
   "metadata": {},
   "outputs": [],
   "source": [
    "dna_sequence = tuple(\"ATGCGTACGCTAGCTAGCTAGCG\")"
   ]
  },
  {
   "cell_type": "markdown",
   "metadata": {},
   "source": [
    " Biological Relationships"
   ]
  },
  {
   "cell_type": "markdown",
   "metadata": {},
   "source": [
    "gene_relationships = ((\"GeneA\", \"GeneB\"), (\"GeneB\", \"GeneC\"), (\"GeneD\", \"GeneE\"))"
   ]
  },
  {
   "cell_type": "markdown",
   "metadata": {},
   "source": [
    "Multiple Data Types"
   ]
  },
  {
   "cell_type": "code",
   "execution_count": 28,
   "metadata": {},
   "outputs": [],
   "source": [
    "gene_relationships = ((\"GeneA\", \"GeneB\"), (\"GeneB\", \"GeneC\"), (\"GeneD\", \"GeneE\"))"
   ]
  },
  {
   "cell_type": "markdown",
   "metadata": {},
   "source": [
    "Dictionaries with Tuples"
   ]
  },
  {
   "cell_type": "code",
   "execution_count": 29,
   "metadata": {},
   "outputs": [],
   "source": [
    "gene_annotations = {(\"GeneA\", \"X\"): {\"length\": 1200, \"start_position\": 1000},\n",
    "(\"GeneB\", \"Y\"): {\"length\": 1500, \"start_position\": 2000}}"
   ]
  },
  {
   "cell_type": "markdown",
   "metadata": {},
   "source": [
    "Frequency Distribution"
   ]
  },
  {
   "cell_type": "code",
   "execution_count": 31,
   "metadata": {},
   "outputs": [],
   "source": [
    "nucleotide_counts = tuple((base, dna_sequence.count(base)) for base in 'ATCG')\n"
   ]
  }
 ],
 "metadata": {
  "kernelspec": {
   "display_name": "Python 3",
   "language": "python",
   "name": "python3"
  },
  "language_info": {
   "codemirror_mode": {
    "name": "ipython",
    "version": 3
   },
   "file_extension": ".py",
   "mimetype": "text/x-python",
   "name": "python",
   "nbconvert_exporter": "python",
   "pygments_lexer": "ipython3",
   "version": "3.9.2"
  }
 },
 "nbformat": 4,
 "nbformat_minor": 2
}
