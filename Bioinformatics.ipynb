{
 "cells": [
  {
   "cell_type": "markdown",
   "metadata": {},
   "source": [
    "# Basic Concepts of Python for Bioinformatics:"
   ]
  },
  {
   "cell_type": "markdown",
   "metadata": {},
   "source": [
    "Variables and Data Types"
   ]
  },
  {
   "cell_type": "code",
   "execution_count": 13,
   "metadata": {},
   "outputs": [],
   "source": [
    "name = \"Bioinformatics\"\n",
    "count = 42\n",
    "percentage = 75.5\n",
    "gene_list = [\"GeneA\", \"GeneB\", \"GeneC\"]"
   ]
  },
  {
   "cell_type": "markdown",
   "metadata": {},
   "source": [
    "Control Flow"
   ]
  },
  {
   "cell_type": "code",
   "execution_count": 14,
   "metadata": {},
   "outputs": [
    {
     "name": "stdout",
     "output_type": "stream",
     "text": [
      "Short gene: GeneC\n"
     ]
    }
   ],
   "source": [
    "for gene in gene_list:\n",
    " if len(gene) > 5:\n",
    "  print(gene)\n",
    "else:\n",
    " print(\"Short gene:\", gene)"
   ]
  },
  {
   "cell_type": "markdown",
   "metadata": {},
   "source": [
    "Functions"
   ]
  },
  {
   "cell_type": "code",
   "execution_count": 15,
   "metadata": {},
   "outputs": [],
   "source": [
    "def calculate_gc_content(sequence):\n",
    "    gc_count = sequence.count('G') + sequence.count('C')\n",
    "    total_bases = len(sequence)\n",
    "    gc_content = (gc_count / total_bases) * 100\n",
    "    return gc_content"
   ]
  },
  {
   "cell_type": "markdown",
   "metadata": {},
   "source": [
    "File Handling"
   ]
  },
  {
   "cell_type": "code",
   "execution_count": 16,
   "metadata": {},
   "outputs": [],
   "source": [
    "#with open('sequences.txt', 'r') as file:\n",
    "    #sequences = file.readlines()"
   ]
  },
  {
   "cell_type": "markdown",
   "metadata": {},
   "source": [
    "Bioinformatics Libraries"
   ]
  },
  {
   "cell_type": "code",
   "execution_count": 17,
   "metadata": {},
   "outputs": [],
   "source": [
    "from Bio import SeqIO\n",
    "\n",
    "#sequence_record = SeqIO.read(\"sequence.fasta\", \"fasta\")"
   ]
  },
  {
   "cell_type": "markdown",
   "metadata": {},
   "source": [
    "# Importance of Clean Code and Documentation in Bioinformatics Projects:"
   ]
  },
  {
   "cell_type": "markdown",
   "metadata": {},
   "source": [
    "Readability"
   ]
  },
  {
   "cell_type": "code",
   "execution_count": 18,
   "metadata": {},
   "outputs": [],
   "source": [
    "# Bad\n",
    "#x = dna.count('G') + dna.count('C')\n",
    "\n",
    "# Good\n",
    "#gc_count = dna.count('G') + dna.count('C')"
   ]
  },
  {
   "cell_type": "markdown",
   "metadata": {},
   "source": [
    "Modularity"
   ]
  },
  {
   "cell_type": "code",
   "execution_count": 19,
   "metadata": {},
   "outputs": [],
   "source": [
    "# Bad\n",
    "#def analyze_sequence(data):\n",
    "        # ...\n",
    "\n",
    "# Good\n",
    "#def calculate_gc_content(sequence):\n",
    "    # ...\n",
    "\n",
    "#def analyze_sequence(data):\n",
    "    #gc_content = calculate_gc_content(data)\n",
    "    # ..."
   ]
  },
  {
   "cell_type": "markdown",
   "metadata": {},
   "source": [
    "Documentation"
   ]
  },
  {
   "cell_type": "code",
   "execution_count": 20,
   "metadata": {},
   "outputs": [],
   "source": [
    "def calculate_gc_content(sequence):\n",
    "    \"\"\"\n",
    "Calculate the GC content of a DNA sequence.\n",
    "\n",
    "Parameters:\n",
    "- sequence (str): DNA sequence.\n",
    "\n",
    "Returns:\n",
    "- float: GC content percentage.\n",
    "\"\"\"\n",
    "# ..."
   ]
  },
  {
   "cell_type": "markdown",
   "metadata": {},
   "source": [
    "# Basic Input and Output in Python for Bioinformatics:"
   ]
  },
  {
   "cell_type": "markdown",
   "metadata": {},
   "source": [
    "Input Methods for Biological Data"
   ]
  },
  {
   "cell_type": "markdown",
   "metadata": {},
   "source": [
    "a. Reading from Files"
   ]
  },
  {
   "cell_type": "code",
   "execution_count": 21,
   "metadata": {},
   "outputs": [],
   "source": [
    "from Bio import SeqIO\n",
    "\n",
    "# Reading a FASTA file\n",
    "fasta_file = \"sequence.fasta\"\n",
    "#sequence_record = SeqIO.read(fasta_file, \"fasta\")"
   ]
  },
  {
   "cell_type": "markdown",
   "metadata": {},
   "source": [
    "b. User Input"
   ]
  },
  {
   "cell_type": "code",
   "execution_count": 22,
   "metadata": {},
   "outputs": [],
   "source": [
    "#user_sequence = input(\"Enter a DNA sequence: \")"
   ]
  },
  {
   "cell_type": "markdown",
   "metadata": {},
   "source": [
    "Formatted Output for Interpretation"
   ]
  },
  {
   "cell_type": "markdown",
   "metadata": {},
   "source": [
    "a. Print Statements"
   ]
  },
  {
   "cell_type": "code",
   "execution_count": 23,
   "metadata": {},
   "outputs": [
    {
     "name": "stdout",
     "output_type": "stream",
     "text": [
      "GC Content: 45.2 %\n"
     ]
    }
   ],
   "source": [
    "gc_content = 45.2\n",
    "print(\"GC Content:\", gc_content, \"%\")"
   ]
  },
  {
   "cell_type": "markdown",
   "metadata": {},
   "source": [
    "b. Formatted Strings"
   ]
  },
  {
   "cell_type": "code",
   "execution_count": 24,
   "metadata": {},
   "outputs": [
    {
     "name": "stdout",
     "output_type": "stream",
     "text": [
      "The expression level of GeneA is 2.5 units.\n"
     ]
    }
   ],
   "source": [
    "gene_name = \"GeneA\"\n",
    "expression_level = 2.5\n",
    "\n",
    "output_message = f\"The expression level of {gene_name} is {expression_level} units.\"\n",
    "print(output_message)"
   ]
  },
  {
   "cell_type": "markdown",
   "metadata": {},
   "source": [
    "c. Tabular Data"
   ]
  },
  {
   "cell_type": "code",
   "execution_count": 25,
   "metadata": {},
   "outputs": [
    {
     "name": "stdout",
     "output_type": "stream",
     "text": [
      "Gene\tExpression Level\n",
      "GeneA\t2.5\n",
      "GeneB\t3.1\n",
      "GeneC\t1.8\n"
     ]
    }
   ],
   "source": [
    "genes = [\"GeneA\", \"GeneB\", \"GeneC\"]\n",
    "expression_levels = [2.5, 3.1, 1.8]\n",
    "\n",
    "print(\"Gene\\tExpression Level\")\n",
    "for gene, level in zip(genes, expression_levels):\n",
    "    print(f\"{gene}\\t{level}\")"
   ]
  },
  {
   "cell_type": "code",
   "execution_count": 26,
   "metadata": {},
   "outputs": [],
   "source": [
    "output_file = \"results.txt\"\n",
    "with open(output_file, 'w') as file:\n",
    "    file.write(f\"Gene\\tExpression Level\\n\")\n",
    "    for gene, level in zip(genes, expression_levels):\n",
    "        file.write(f\"{gene}\\t{level}\\n\")"
   ]
  },
  {
   "cell_type": "code",
   "execution_count": 27,
   "metadata": {},
   "outputs": [
    {
     "name": "stdout",
     "output_type": "stream",
     "text": [
      "The genome of Homo sapiens contains 1500 genes.\n"
     ]
    }
   ],
   "source": [
    "organism = \"Homo sapiens\"\n",
    "num_genes = 1500\n",
    "\n",
    "summary_message = f\"The genome of {organism} contains {num_genes} genes.\"\n",
    "print(summary_message)\n",
    "\n"
   ]
  },
  {
   "cell_type": "markdown",
   "metadata": {},
   "source": [
    "# Mathematical Operations in Bioinformatics:"
   ]
  },
  {
   "cell_type": "markdown",
   "metadata": {},
   "source": [
    "GC Content Calculation"
   ]
  },
  {
   "cell_type": "code",
   "execution_count": 28,
   "metadata": {},
   "outputs": [
    {
     "name": "stdout",
     "output_type": "stream",
     "text": [
      "GC Content: 52.94%\n"
     ]
    }
   ],
   "source": [
    "def calculate_gc_content(sequence):\n",
    "    gc_count = sequence.count('G') + sequence.count('C')\n",
    "    total_bases = len(sequence)\n",
    "    gc_content = (gc_count / total_bases) * 100\n",
    "    return gc_content\n",
    "\n",
    "# Example\n",
    "dna_sequence = \"ATGCGATCGATCGTACG\"\n",
    "gc_percentage = calculate_gc_content(dna_sequence)\n",
    "print(f\"GC Content: {gc_percentage:.2f}%\")"
   ]
  },
  {
   "cell_type": "markdown",
   "metadata": {},
   "source": [
    "Transcription Factor Binding Site Analysis"
   ]
  },
  {
   "cell_type": "code",
   "execution_count": 29,
   "metadata": {},
   "outputs": [
    {
     "name": "stdout",
     "output_type": "stream",
     "text": [
      "Motif 'CTAG' found at positions: [9, 13, 17]\n"
     ]
    }
   ],
   "source": [
    "def find_motif_occurrences(sequence, motif):\n",
    "    occurrences = []\n",
    "    i = sequence.find(motif)\n",
    "    while i != -1:\n",
    "        occurrences.append(i)\n",
    "        i = sequence.find(motif, i + 1)\n",
    "    return occurrences\n",
    "\n",
    "# Example\n",
    "gene_sequence = \"ATGCGTACGCTAGCTAGCTAGCG\"\n",
    "motif = \"CTAG\"\n",
    "motif_occurrences = find_motif_occurrences(gene_sequence, motif)\n",
    "print(f\"Motif '{motif}' found at positions: {motif_occurrences}\")"
   ]
  },
  {
   "cell_type": "code",
   "execution_count": 30,
   "metadata": {},
   "outputs": [
    {
     "name": "stdout",
     "output_type": "stream",
     "text": [
      "Defaulting to user installation because normal site-packages is not writeable\n",
      "Requirement already satisfied: numpy in /home/tbkhori_/.local/lib/python3.9/site-packages (2.0.1)\n",
      "Requirement already satisfied: scipy in /home/tbkhori_/.local/lib/python3.9/site-packages (1.13.1)\n",
      "\u001b[33mWARNING: Error parsing dependencies of gpg: Invalid version: '1.14.0-unknown'\u001b[0m\u001b[33m\n",
      "\u001b[0m\u001b[33mWARNING: Error parsing dependencies of wfuzz: Expected end or semicolon (after version specifier)\n",
      "    pyparsing>=2.4*\n",
      "             ~~~~~^\u001b[0m\u001b[33m\n",
      "\u001b[0m\n",
      "\u001b[1m[\u001b[0m\u001b[34;49mnotice\u001b[0m\u001b[1;39;49m]\u001b[0m\u001b[39;49m A new release of pip is available: \u001b[0m\u001b[31;49m24.1.2\u001b[0m\u001b[39;49m -> \u001b[0m\u001b[32;49m24.2\u001b[0m\n",
      "\u001b[1m[\u001b[0m\u001b[34;49mnotice\u001b[0m\u001b[1;39;49m]\u001b[0m\u001b[39;49m To update, run: \u001b[0m\u001b[32;49mpip install --upgrade pip\u001b[0m\n",
      "Note: you may need to restart the kernel to use updated packages.\n"
     ]
    }
   ],
   "source": [
    "%pip install --upgrade numpy scipy"
   ]
  },
  {
   "cell_type": "markdown",
   "metadata": {},
   "source": [
    "Statistical Analysis"
   ]
  },
  {
   "cell_type": "code",
   "execution_count": 31,
   "metadata": {},
   "outputs": [
    {
     "name": "stdout",
     "output_type": "stream",
     "text": [
      "Mean Condition 1: 2.82\n",
      "Mean Condition 2: 2.12\n",
      "Standard Deviation Condition 1: 0.21\n",
      "Standard Deviation Condition 2: 0.23\n",
      "T-statistic: 4.45\n",
      "P-value: 0.0022\n"
     ]
    }
   ],
   "source": [
    "import numpy as np\n",
    "import scipy\n",
    "from scipy.stats import ttest_ind\n",
    "\n",
    "# Example: Gene expression levels in two conditions\n",
    "condition_1 = np.array([2.5, 3.1, 2.8, 3.0, 2.7])\n",
    "condition_2 = np.array([1.8, 2.2, 2.0, 2.5, 2.1])\n",
    "\n",
    "# Mean and standard deviation\n",
    "mean_condition_1 = np.mean(condition_1)\n",
    "mean_condition_2 = np.mean(condition_2)\n",
    "\n",
    "std_dev_condition_1 = np.std(condition_1)\n",
    "std_dev_condition_2 = np.std(condition_2)\n",
    "\n",
    "# Independent t-test\n",
    "t_stat, p_value = ttest_ind(condition_1, condition_2)\n",
    "\n",
    "print(f\"Mean Condition 1: {mean_condition_1:.2f}\")\n",
    "print(f\"Mean Condition 2: {mean_condition_2:.2f}\")\n",
    "print(f\"Standard Deviation Condition 1: {std_dev_condition_1:.2f}\")\n",
    "print(f\"Standard Deviation Condition 2: {std_dev_condition_2:.2f}\")\n",
    "print(f\"T-statistic: {t_stat:.2f}\")\n",
    "print(f\"P-value: {p_value:.4f}\")"
   ]
  },
  {
   "cell_type": "markdown",
   "metadata": {},
   "source": [
    "Protein Folding"
   ]
  },
  {
   "cell_type": "code",
   "execution_count": 32,
   "metadata": {},
   "outputs": [
    {
     "name": "stdout",
     "output_type": "stream",
     "text": [
      "Protein Folding Energy: 0.0024\n"
     ]
    }
   ],
   "source": [
    "import math\n",
    "\n",
    "def calculate_protein_folding_energy(temperature, entropy_change):\n",
    "    gas_constant = 8.314 # J/(mol*K)\n",
    "    delta_g = -temperature * entropy_change\n",
    "    folding_energy = math.exp(-delta_g / (gas_constant * temperature))\n",
    "    return folding_energy\n",
    "\n",
    "# Example\n",
    "temperature = 298 # in Kelvin\n",
    "entropy_change = -50 # in J/(mol*K)\n",
    "folding_energy = calculate_protein_folding_energy(temperature, entropy_change)\n",
    "print(f\"Protein Folding Energy: {folding_energy:.4f}\")"
   ]
  },
  {
   "cell_type": "markdown",
   "metadata": {},
   "source": [
    "# String Manipulation Techniques in Bioinformatics:"
   ]
  },
  {
   "cell_type": "markdown",
   "metadata": {},
   "source": [
    "Sequence Alignment"
   ]
  },
  {
   "cell_type": "code",
   "execution_count": 33,
   "metadata": {},
   "outputs": [
    {
     "name": "stdout",
     "output_type": "stream",
     "text": [
      "Sequence Alignment:\n",
      "ATGCGTA-CGCTAGCTAGC-TAGCG\n",
      "||||| | ||  |  |  | || ||\n",
      "ATGCG-ATCG--A--T--CGTA-CG\n",
      "  Score=15\n",
      "\n"
     ]
    },
    {
     "name": "stderr",
     "output_type": "stream",
     "text": [
      "/home/tbkhori_/.local/lib/python3.9/site-packages/Bio/pairwise2.py:278: BiopythonDeprecationWarning: Bio.pairwise2 has been deprecated, and we intend to remove it in a future release of Biopython. As an alternative, please consider using Bio.Align.PairwiseAligner as a replacement, and contact the Biopython developers if you still need the Bio.pairwise2 module.\n",
      "  warnings.warn(\n"
     ]
    }
   ],
   "source": [
    "from Bio import pairwise2\n",
    "from Bio.pairwise2 import format_alignment\n",
    "\n",
    "sequence_1 = \"ATGCGTACGCTAGCTAGCTAGCG\"\n",
    "sequence_2 = \"ATGCGATCGATCGTACG\"\n",
    "\n",
    "alignments = pairwise2.align.globalxx(sequence_1, sequence_2, one_alignment_only=True)\n",
    "best_alignment = alignments[0]\n",
    "\n",
    "print(\"Sequence Alignment:\")\n",
    "print(format_alignment(*best_alignment))"
   ]
  },
  {
   "cell_type": "markdown",
   "metadata": {},
   "source": [
    "Reverse Complement"
   ]
  },
  {
   "cell_type": "code",
   "execution_count": 34,
   "metadata": {},
   "outputs": [
    {
     "name": "stdout",
     "output_type": "stream",
     "text": [
      "Original Sequence: ATGCGTACGCTAGCTAGCTAGCG\n",
      "Reverse Complement: CGCTAGCTAGCTAGCGTACGCAT\n"
     ]
    }
   ],
   "source": [
    "def reverse_complement(sequence):\n",
    "    complement = {'A': 'T', 'T': 'A', 'C': 'G', 'G': 'C'}\n",
    "    return ''.join(complement[base] for base in reversed(sequence))\n",
    "\n",
    "# Example\n",
    "dna_sequence = \"ATGCGTACGCTAGCTAGCTAGCG\"\n",
    "rev_comp_sequence = reverse_complement(dna_sequence)\n",
    "print(f\"Original Sequence: {dna_sequence}\")\n",
    "print(f\"Reverse Complement: {rev_comp_sequence}\")"
   ]
  },
  {
   "cell_type": "markdown",
   "metadata": {},
   "source": [
    "Motif Extraction"
   ]
  },
  {
   "cell_type": "code",
   "execution_count": 35,
   "metadata": {},
   "outputs": [
    {
     "name": "stdout",
     "output_type": "stream",
     "text": [
      "Gene Motifs: ['ATG', 'TGC', 'GCG', 'CGT', 'GTA', 'TAC', 'ACG', 'CGC', 'GCT', 'CTA', 'TAG', 'AGC', 'GCT', 'CTA', 'TAG', 'AGC', 'GCT', 'CTA', 'TAG', 'AGC', 'GCG']\n"
     ]
    }
   ],
   "source": [
    "def extract_motifs(sequence, motif_length):\n",
    "    motifs = [sequence[i:i+motif_length] for i in range(len(sequence)-motif_length+1)]\n",
    "    return motifs\n",
    "\n",
    "# Example\n",
    "gene_sequence = \"ATGCGTACGCTAGCTAGCTAGCG\"\n",
    "motif_length = 3\n",
    "gene_motifs = extract_motifs(gene_sequence, motif_length)\n",
    "print(f\"Gene Motifs: {gene_motifs}\")"
   ]
  },
  {
   "cell_type": "markdown",
   "metadata": {},
   "source": [
    "Counting Nucleotides"
   ]
  },
  {
   "cell_type": "code",
   "execution_count": 36,
   "metadata": {},
   "outputs": [
    {
     "name": "stdout",
     "output_type": "stream",
     "text": [
      "Nucleotide Counts:\n",
      "A: 5\n",
      "T: 5\n",
      "C: 6\n",
      "G: 7\n"
     ]
    }
   ],
   "source": [
    "def count_nucleotides(sequence):\n",
    "    nucleotide_counts = {base: sequence.count(base) for base in 'ATCG'}\n",
    "    return nucleotide_counts\n",
    "\n",
    "# Example\n",
    "dna_sequence = \"ATGCGTACGCTAGCTAGCTAGCG\"\n",
    "nucleotide_counts = count_nucleotides(dna_sequence)\n",
    "print(\"Nucleotide Counts:\")\n",
    "for base, count in nucleotide_counts.items():\n",
    "    print(f\"{base}: {count}\")"
   ]
  },
  {
   "cell_type": "markdown",
   "metadata": {},
   "source": [
    "Searching for Motifs"
   ]
  },
  {
   "cell_type": "code",
   "execution_count": 37,
   "metadata": {},
   "outputs": [
    {
     "name": "stdout",
     "output_type": "stream",
     "text": [
      "Motif 'CTAG' found at positions: [9, 13, 17]\n"
     ]
    }
   ],
   "source": [
    "def find_motif_positions(sequence, motif):\n",
    "    positions = [i for i in range(len(sequence)-len(motif)+1) if sequence[i:i+len(motif)] == motif]\n",
    "    return positions\n",
    "\n",
    "# Example\n",
    "gene_sequence = \"ATGCGTACGCTAGCTAGCTAGCG\"\n",
    "motif = \"CTAG\"\n",
    "motif_positions = find_motif_positions(gene_sequence, motif)\n",
    "print(f\"Motif '{motif}' found at positions: {motif_positions}\")"
   ]
  },
  {
   "cell_type": "markdown",
   "metadata": {},
   "source": [
    "Concatenation and Slicing"
   ]
  },
  {
   "cell_type": "code",
   "execution_count": 38,
   "metadata": {},
   "outputs": [
    {
     "name": "stdout",
     "output_type": "stream",
     "text": [
      "Gene Name: geneA\n",
      "Description: description\n"
     ]
    }
   ],
   "source": [
    "header = \">geneA|description\"\n",
    "gene_name = header.split('|')[0][1:]\n",
    "description = header.split('|')[1]\n",
    "\n",
    "print(f\"Gene Name: {gene_name}\")\n",
    "print(f\"Description: {description}\")"
   ]
  },
  {
   "cell_type": "markdown",
   "metadata": {},
   "source": [
    "# Iterable Objects in Python (Dictionaries, Lists, Tuples, Sets)"
   ]
  },
  {
   "cell_type": "markdown",
   "metadata": {},
   "source": [
    "Representation of Genetic Information"
   ]
  },
  {
   "cell_type": "code",
   "execution_count": 39,
   "metadata": {},
   "outputs": [
    {
     "name": "stdout",
     "output_type": "stream",
     "text": [
      "Sequence for GeneA: ATGCGTACGCTAGCTAGCTAGCG\n"
     ]
    }
   ],
   "source": [
    "gene_sequences = {\n",
    "\"GeneA\": \"ATGCGTACGCTAGCTAGCTAGCG\",\n",
    "\"GeneB\": \"ATCGATCGATCGTACGTAGCTAGC\",\n",
    "\"GeneC\": \"ATCGATCGATCGATCGATCG\"\n",
    "}\n",
    "\n",
    "# Accessing sequence for GeneA\n",
    "gene_a_sequence = gene_sequences[\"GeneA\"]\n",
    "print(f\"Sequence for GeneA: {gene_a_sequence}\")"
   ]
  },
  {
   "cell_type": "markdown",
   "metadata": {},
   "source": [
    "Gene Annotations"
   ]
  },
  {
   "cell_type": "code",
   "execution_count": 40,
   "metadata": {},
   "outputs": [
    {
     "name": "stdout",
     "output_type": "stream",
     "text": [
      "Annotation for GeneB:\n",
      "length: 24\n",
      "chromosome: Y\n",
      "start_position: 1500\n"
     ]
    }
   ],
   "source": [
    "gene_annotations = {\n",
    "\"GeneA\": {\"length\": 21, \"chromosome\": \"X\", \"start_position\": 1000},\n",
    "\"GeneB\": {\"length\": 24, \"chromosome\": \"Y\", \"start_position\": 1500},\n",
    "\"GeneC\": {\"length\": 18, \"chromosome\": \"2\", \"start_position\": 2000}\n",
    "}\n",
    "\n",
    "# Accessing annotation for GeneB\n",
    "gene_b_annotation = gene_annotations[\"GeneB\"]\n",
    "print(\"Annotation for GeneB:\")\n",
    "for key, value in gene_b_annotation.items():\n",
    "    print(f\"{key}: {value}\")"
   ]
  },
  {
   "cell_type": "markdown",
   "metadata": {},
   "source": [
    "Codon Usage Table"
   ]
  },
  {
   "cell_type": "code",
   "execution_count": 41,
   "metadata": {},
   "outputs": [
    {
     "name": "stdout",
     "output_type": "stream",
     "text": [
      "Frequency of GCT codon: 0.1\n"
     ]
    }
   ],
   "source": [
    "codon_usage = {\n",
    "\"ATG\": 0.85,\n",
    "\"TAA\": 0.05,\n",
    "\"TAG\": 0.03,\n",
    "\"TGA\": 0.02,\n",
    "\"GCT\": 0.10,\n",
    "\"GCC\": 0.15,\n",
    "\"GCA\": 0.30,\n",
    "\"GCG\": 0.45\n",
    "}\n",
    "\n",
    "# Accessing frequency for GCT codon\n",
    "gct_frequency = codon_usage.get(\"GCT\", 0)\n",
    "print(f\"Frequency of GCT codon: {gct_frequency}\")"
   ]
  },
  {
   "cell_type": "markdown",
   "metadata": {},
   "source": [
    "Protein Structures"
   ]
  },
  {
   "cell_type": "code",
   "execution_count": 42,
   "metadata": {},
   "outputs": [
    {
     "name": "stdout",
     "output_type": "stream",
     "text": [
      "Information for ProteinC:\n",
      "length: 400\n",
      "secondary_structure: random-coil\n",
      "domains: ['M', 'N', 'O']\n"
     ]
    }
   ],
   "source": [
    "protein_structures = {\n",
    "\"ProteinA\": {\"length\": 300, \"secondary_structure\": \"alpha-helix\", \"domains\": [\"A\", \"B\", \"C\"]},\n",
    "\"ProteinB\": {\"length\": 200, \"secondary_structure\": \"beta-sheet\", \"domains\": [\"X\", \"Y\"]},\n",
    "\"ProteinC\": {\"length\": 400, \"secondary_structure\": \"random-coil\", \"domains\": [\"M\", \"N\", \"O\"]}\n",
    "}\n",
    "\n",
    "# Accessing information for ProteinC\n",
    "protein_c_info = protein_structures.get(\"ProteinC\", {})\n",
    "print(\"Information for ProteinC:\")\n",
    "for key, value in protein_c_info.items():\n",
    "    print(f\"{key}: {value}\")"
   ]
  },
  {
   "cell_type": "markdown",
   "metadata": {},
   "source": [
    "Pathways and Interactions"
   ]
  },
  {
   "cell_type": "code",
   "execution_count": 43,
   "metadata": {},
   "outputs": [
    {
     "name": "stdout",
     "output_type": "stream",
     "text": [
      "Genes in PathwayA: ['GeneA', 'GeneB', 'GeneC']\n"
     ]
    }
   ],
   "source": [
    "pathway_interactions = {\n",
    "\"PathwayA\": {\"genes\": [\"GeneA\", \"GeneB\", \"GeneC\"], \"reactions\": [\"Reaction1\", \"Reaction2\"]},\n",
    "\"PathwayB\": {\"genes\": [\"GeneD\", \"GeneE\"], \"reactions\": [\"Reaction3\", \"Reaction4\"]},\n",
    "\"PathwayC\": {\"genes\": [\"GeneF\"], \"reactions\": [\"Reaction5\"]}\n",
    "}\n",
    "\n",
    "# Accessing genes for PathwayA\n",
    "pathway_a_genes = pathway_interactions.get(\"PathwayA\", {}).get(\"genes\", [])\n",
    "print(f\"Genes in PathwayA: {pathway_a_genes}\")"
   ]
  },
  {
   "cell_type": "markdown",
   "metadata": {},
   "source": [
    "# Usage of Lists in Bioinformatics:"
   ]
  },
  {
   "cell_type": "markdown",
   "metadata": {},
   "source": [
    "List of Genes"
   ]
  },
  {
   "cell_type": "code",
   "execution_count": 44,
   "metadata": {},
   "outputs": [],
   "source": [
    "gene_list = [\"GeneA\", \"GeneB\", \"GeneC\", \"GeneD\", \"GeneE\"]"
   ]
  },
  {
   "cell_type": "markdown",
   "metadata": {},
   "source": [
    "Length Distribution"
   ]
  },
  {
   "cell_type": "code",
   "execution_count": 45,
   "metadata": {},
   "outputs": [
    {
     "name": "stdout",
     "output_type": "stream",
     "text": [
      "Average Gene Length: 1080.00 bp\n",
      "Genes Longer than Average: ['GeneA', 'GeneC']\n"
     ]
    }
   ],
   "source": [
    "gene_lengths = [1200, 800, 1500, 1000, 900]\n",
    "\n",
    "# Calculate average length\n",
    "average_length = sum(gene_lengths) / len(gene_lengths)\n",
    "\n",
    "# Filter genes longer than the average length\n",
    "long_genes = [gene for gene, length in zip(gene_list, gene_lengths) if length > average_length]\n",
    "\n",
    "print(f\"Average Gene Length: {average_length:.2f} bp\")\n",
    "print(f\"Genes Longer than Average: {long_genes}\")"
   ]
  },
  {
   "cell_type": "markdown",
   "metadata": {},
   "source": [
    "Gene Expression Levels"
   ]
  },
  {
   "cell_type": "code",
   "execution_count": 46,
   "metadata": {},
   "outputs": [
    {
     "name": "stdout",
     "output_type": "stream",
     "text": [
      "Original Expression Levels: [2.5, 3.1, 2.8, 3.0, 2.7]\n",
      "Normalized Expression Levels: [0.8064516129032258, 1.0, 0.9032258064516128, 0.9677419354838709, 0.8709677419354839]\n"
     ]
    }
   ],
   "source": [
    "expression_levels = [2.5, 3.1, 2.8, 3.0, 2.7]\n",
    "\n",
    "# Normalize expression levels\n",
    "normalized_levels = [level / max(expression_levels) for level in expression_levels]\n",
    "\n",
    "print(f\"Original Expression Levels: {expression_levels}\")\n",
    "print(f\"Normalized Expression Levels: {normalized_levels}\")"
   ]
  },
  {
   "cell_type": "markdown",
   "metadata": {},
   "source": [
    "Filtering Genes by Expression"
   ]
  },
  {
   "cell_type": "code",
   "execution_count": 47,
   "metadata": {},
   "outputs": [
    {
     "name": "stdout",
     "output_type": "stream",
     "text": [
      "Genes with High Expression: ['GeneB', 'GeneD']\n"
     ]
    }
   ],
   "source": [
    "high_expression_genes = [gene for gene, level in zip(gene_list, expression_levels) if level > 2.8]\n",
    "\n",
    "print(f\"Genes with High Expression: {high_expression_genes}\")"
   ]
  },
  {
   "cell_type": "markdown",
   "metadata": {},
   "source": [
    "# Genomic Coordinates"
   ]
  },
  {
   "cell_type": "code",
   "execution_count": 48,
   "metadata": {},
   "outputs": [
    {
     "name": "stdout",
     "output_type": "stream",
     "text": [
      "Total Genomic Span: 1500 bp\n"
     ]
    }
   ],
   "source": [
    "gene_coordinates = [(1000, 1500), (2000, 2500), (3000, 3500)]\n",
    "\n",
    "# Calculate the total genomic span\n",
    "total_genomic_span = sum(end - start for start, end in gene_coordinates)\n",
    "\n",
    "print(f\"Total Genomic Span: {total_genomic_span} bp\")"
   ]
  },
  {
   "cell_type": "markdown",
   "metadata": {},
   "source": [
    "Sequences in FASTA Format"
   ]
  },
  {
   "cell_type": "code",
   "execution_count": 49,
   "metadata": {},
   "outputs": [
    {
     "name": "stdout",
     "output_type": "stream",
     "text": [
      "Gene Names: ['GeneA', 'GeneB']\n",
      "Sequences: ['ATGCGTACGCTAGCTAGCTAGCG', 'ATCGATCGATCGTACGTAGCTAGC']\n"
     ]
    }
   ],
   "source": [
    "fasta_sequences = [\">GeneA\", \"ATGCGTACGCTAGCTAGCTAGCG\", \">GeneB\", \"ATCGATCGATCGTACGTAGCTAGC\"]\n",
    "\n",
    "# Extract gene names and sequences\n",
    "gene_names = [line[1:] for line in fasta_sequences if line.startswith(\">\")]\n",
    "sequences = [line for line in fasta_sequences if not line.startswith(\">\")]\n",
    "\n",
    "print(f\"Gene Names: {gene_names}\")\n",
    "print(f\"Sequences: {sequences}\")"
   ]
  },
  {
   "cell_type": "markdown",
   "metadata": {},
   "source": [
    "Pathways and Reactions"
   ]
  },
  {
   "cell_type": "code",
   "execution_count": 50,
   "metadata": {},
   "outputs": [
    {
     "name": "stdout",
     "output_type": "stream",
     "text": [
      "Genes in PathwayA: ['GeneC']\n"
     ]
    }
   ],
   "source": [
    "pathway_data = [(\"PathwayA\", [\"GeneA\", \"GeneB\", \"GeneC\"], [\"Reaction1\", \"Reaction2\"]),\n",
    "(\"PathwayB\", [\"GeneD\", \"GeneE\"], [\"Reaction3\", \"Reaction4\"]),\n",
    "(\"PathwayC\", [\"GeneF\"], [\"Reaction5\"])]\n",
    "\n",
    "# Extract genes in PathwayA\n",
    "pathway_a_genes = [gene for pathway, genes, reactions in pathway_data if pathway == \"PathwayA\"]\n",
    "\n",
    "print(f\"Genes in PathwayA: {pathway_a_genes}\")"
   ]
  },
  {
   "cell_type": "markdown",
   "metadata": {},
   "source": [
    "# Immutable Nature of Tuples in Bioinformatics:"
   ]
  },
  {
   "cell_type": "markdown",
   "metadata": {},
   "source": [
    "Storing Coordinates"
   ]
  },
  {
   "cell_type": "code",
   "execution_count": 51,
   "metadata": {},
   "outputs": [],
   "source": [
    "gene_coordinates = ((1000, 1500), (2000, 2500), (3000, 3500))"
   ]
  },
  {
   "cell_type": "markdown",
   "metadata": {},
   "source": [
    "# Pairing Data"
   ]
  },
  {
   "cell_type": "code",
   "execution_count": 52,
   "metadata": {},
   "outputs": [],
   "source": [
    "gene_data = [(\"GeneA\", 2.5), (\"GeneB\", 3.1), (\"GeneC\", 2.8)]"
   ]
  },
  {
   "cell_type": "markdown",
   "metadata": {},
   "source": [
    "Positional Information"
   ]
  },
  {
   "cell_type": "code",
   "execution_count": 53,
   "metadata": {},
   "outputs": [],
   "source": [
    "dna_sequence = tuple(\"ATGCGTACGCTAGCTAGCTAGCG\")"
   ]
  },
  {
   "cell_type": "markdown",
   "metadata": {},
   "source": [
    " Biological Relationships"
   ]
  },
  {
   "cell_type": "markdown",
   "metadata": {},
   "source": [
    "gene_relationships = ((\"GeneA\", \"GeneB\"), (\"GeneB\", \"GeneC\"), (\"GeneD\", \"GeneE\"))"
   ]
  },
  {
   "cell_type": "markdown",
   "metadata": {},
   "source": [
    "Multiple Data Types"
   ]
  },
  {
   "cell_type": "code",
   "execution_count": 54,
   "metadata": {},
   "outputs": [],
   "source": [
    "gene_relationships = ((\"GeneA\", \"GeneB\"), (\"GeneB\", \"GeneC\"), (\"GeneD\", \"GeneE\"))"
   ]
  },
  {
   "cell_type": "markdown",
   "metadata": {},
   "source": [
    "Dictionaries with Tuples"
   ]
  },
  {
   "cell_type": "code",
   "execution_count": 55,
   "metadata": {},
   "outputs": [],
   "source": [
    "gene_annotations = {(\"GeneA\", \"X\"): {\"length\": 1200, \"start_position\": 1000},\n",
    "(\"GeneB\", \"Y\"): {\"length\": 1500, \"start_position\": 2000}}"
   ]
  },
  {
   "cell_type": "markdown",
   "metadata": {},
   "source": [
    "Frequency Distribution"
   ]
  },
  {
   "cell_type": "code",
   "execution_count": 56,
   "metadata": {},
   "outputs": [],
   "source": [
    "nucleotide_counts = tuple((base, dna_sequence.count(base)) for base in 'ATCG')\n"
   ]
  },
  {
   "cell_type": "markdown",
   "metadata": {},
   "source": [
    "Biological Sequences"
   ]
  },
  {
   "cell_type": "code",
   "execution_count": 57,
   "metadata": {},
   "outputs": [],
   "source": [
    "protein_sequence = tuple(\"MHTGKVY\")"
   ]
  },
  {
   "cell_type": "markdown",
   "metadata": {},
   "source": [
    "# Set Operations for Unique Identifiers in Bioinformatics"
   ]
  },
  {
   "cell_type": "markdown",
   "metadata": {},
   "source": [
    "Gene IDs"
   ]
  },
  {
   "cell_type": "code",
   "execution_count": 58,
   "metadata": {},
   "outputs": [],
   "source": [
    "gene_ids_set = {\"GeneA\", \"GeneB\", \"GeneC\", \"GeneD\", \"GeneE\"}"
   ]
  },
  {
   "cell_type": "markdown",
   "metadata": {},
   "source": [
    "Pathway Members"
   ]
  },
  {
   "cell_type": "code",
   "execution_count": 59,
   "metadata": {},
   "outputs": [],
   "source": [
    "pathway_a_genes = {\"GeneA\", \"GeneB\", \"GeneC\"}\n",
    "pathway_b_genes = {\"GeneD\", \"GeneE\"}"
   ]
  },
  {
   "cell_type": "markdown",
   "metadata": {},
   "source": [
    "Intersection of Sets"
   ]
  },
  {
   "cell_type": "code",
   "execution_count": 60,
   "metadata": {},
   "outputs": [
    {
     "name": "stdout",
     "output_type": "stream",
     "text": [
      "Common Genes: set()\n"
     ]
    }
   ],
   "source": [
    "common_genes = pathway_a_genes.intersection(pathway_b_genes)\n",
    "print(f\"Common Genes: {common_genes}\")"
   ]
  },
  {
   "cell_type": "markdown",
   "metadata": {},
   "source": [
    "Union of Sets"
   ]
  },
  {
   "cell_type": "code",
   "execution_count": 61,
   "metadata": {},
   "outputs": [
    {
     "name": "stdout",
     "output_type": "stream",
     "text": [
      "All Genes: {'GeneE', 'GeneD', 'GeneA', 'GeneB', 'GeneC'}\n"
     ]
    }
   ],
   "source": [
    "all_genes = pathway_a_genes.union(pathway_b_genes)\n",
    "print(f\"All Genes: {all_genes}\")"
   ]
  },
  {
   "cell_type": "markdown",
   "metadata": {},
   "source": [
    "Difference of Sets"
   ]
  },
  {
   "cell_type": "code",
   "execution_count": 62,
   "metadata": {},
   "outputs": [
    {
     "name": "stdout",
     "output_type": "stream",
     "text": [
      "Genes Unique to PathwayA: {'GeneA', 'GeneB', 'GeneC'}\n"
     ]
    }
   ],
   "source": [
    "unique_to_pathway_a = pathway_a_genes.difference(pathway_b_genes)\n",
    "print(f\"Genes Unique to PathwayA: {unique_to_pathway_a}\")"
   ]
  },
  {
   "cell_type": "markdown",
   "metadata": {},
   "source": [
    "Symmetric Difference"
   ]
  },
  {
   "cell_type": "code",
   "execution_count": 63,
   "metadata": {},
   "outputs": [
    {
     "name": "stdout",
     "output_type": "stream",
     "text": [
      "Genes Unique to PathwayA or PathwayB: {'GeneE', 'GeneA', 'GeneB', 'GeneD', 'GeneC'}\n"
     ]
    }
   ],
   "source": [
    "unique_to_pathway_a_or_b = pathway_a_genes.symmetric_difference(pathway_b_genes)\n",
    "print(f\"Genes Unique to PathwayA or PathwayB: {unique_to_pathway_a_or_b}\")"
   ]
  },
  {
   "cell_type": "markdown",
   "metadata": {},
   "source": [
    "Checking Membership"
   ]
  },
  {
   "cell_type": "code",
   "execution_count": 64,
   "metadata": {},
   "outputs": [
    {
     "name": "stdout",
     "output_type": "stream",
     "text": [
      "Is GeneA in PathwayA? True\n"
     ]
    }
   ],
   "source": [
    "is_gene_in_pathway = \"GeneA\" in pathway_a_genes\n",
    "print(f\"Is GeneA in PathwayA? {is_gene_in_pathway}\")"
   ]
  },
  {
   "cell_type": "markdown",
   "metadata": {},
   "source": [
    "Subset Check"
   ]
  },
  {
   "cell_type": "code",
   "execution_count": 65,
   "metadata": {},
   "outputs": [
    {
     "name": "stdout",
     "output_type": "stream",
     "text": [
      "Is PathwayA a Subset of All Genes? True\n"
     ]
    }
   ],
   "source": [
    "is_pathway_a_subset = pathway_a_genes.issubset(all_genes)\n",
    "print(f\"Is PathwayA a Subset of All Genes? {is_pathway_a_subset}\")"
   ]
  },
  {
   "cell_type": "markdown",
   "metadata": {},
   "source": [
    "# Conditional Statements for Decision-Making in Bioinformatics"
   ]
  },
  {
   "cell_type": "code",
   "execution_count": 66,
   "metadata": {},
   "outputs": [
    {
     "name": "stdout",
     "output_type": "stream",
     "text": [
      "Low-quality data. Consider re-sequencing or trimming.\n"
     ]
    }
   ],
   "source": [
    "sequence_quality = 25\n",
    "\n",
    "if sequence_quality >= 30:\n",
    "    print(\"High-quality data. Proceed with analysis.\")\n",
    "else:\n",
    "    print(\"Low-quality data. Consider re-sequencing or trimming.\")"
   ]
  },
  {
   "cell_type": "markdown",
   "metadata": {},
   "source": [
    "Filtering Genes by Expression Levels"
   ]
  },
  {
   "cell_type": "code",
   "execution_count": 67,
   "metadata": {},
   "outputs": [
    {
     "name": "stdout",
     "output_type": "stream",
     "text": [
      "Gene expression is higher than threshold. Include in analysis.\n"
     ]
    }
   ],
   "source": [
    "expression_level = 2.7\n",
    "\n",
    "if expression_level > 2.5:\n",
    "    print(\"Gene expression is higher than threshold. Include in analysis.\")\n",
    "else:\n",
    "    print(\"Low gene expression. Exclude from analysis.\")"
   ]
  },
  {
   "cell_type": "markdown",
   "metadata": {},
   "source": [
    "Variant Calling in Genomic Data"
   ]
  },
  {
   "cell_type": "code",
   "execution_count": 68,
   "metadata": {},
   "outputs": [
    {
     "name": "stdout",
     "output_type": "stream",
     "text": [
      "Variants detected. Further analysis required.\n"
     ]
    }
   ],
   "source": [
    "variant_present = True\n",
    "\n",
    "if variant_present:\n",
    "    print(\"Variants detected. Further analysis required.\")\n",
    "else:\n",
    "    print(\"No variants found. Continue with downstream analysis.\")"
   ]
  },
  {
   "cell_type": "markdown",
   "metadata": {},
   "source": [
    "Pathway Analysis"
   ]
  },
  {
   "cell_type": "code",
   "execution_count": 69,
   "metadata": {},
   "outputs": [
    {
     "name": "stdout",
     "output_type": "stream",
     "text": [
      "Pathway enriched with key genes. Conduct pathway analysis.\n"
     ]
    }
   ],
   "source": [
    "pathway_genes = [\"GeneA\", \"GeneB\", \"GeneC\"]\n",
    "\n",
    "if \"GeneA\" in pathway_genes and \"GeneB\" in pathway_genes:\n",
    "    print(\"Pathway enriched with key genes. Conduct pathway analysis.\")\n",
    "else:\n",
    "    print(\"Insufficient key genes for pathway analysis.\")"
   ]
  },
  {
   "cell_type": "markdown",
   "metadata": {},
   "source": [
    "Selecting Analysis Method"
   ]
  },
  {
   "cell_type": "code",
   "execution_count": 70,
   "metadata": {},
   "outputs": [
    {
     "name": "stdout",
     "output_type": "stream",
     "text": [
      "Perform differential gene expression analysis.\n"
     ]
    }
   ],
   "source": [
    "data_type = \"RNA-seq\"\n",
    "\n",
    "if data_type == \"RNA-seq\":\n",
    "    print(\"Perform differential gene expression analysis.\")\n",
    "elif data_type == \"ChIP-seq\":\n",
    "    print(\"Analyze protein-DNA interactions.\")\n",
    "else:\n",
    "    print(\"Unsupported data type. Check compatibility.\")"
   ]
  },
  {
   "cell_type": "markdown",
   "metadata": {},
   "source": [
    "Identifying Coding vs. Non-coding Regions"
   ]
  },
  {
   "cell_type": "code",
   "execution_count": 71,
   "metadata": {},
   "outputs": [
    {
     "name": "stdout",
     "output_type": "stream",
     "text": [
      "Sequence represents a coding region.\n"
     ]
    }
   ],
   "source": [
    "sequence_type = \"coding\"\n",
    "\n",
    "if sequence_type == \"coding\":\n",
    "    print(\"Sequence represents a coding region.\")\n",
    "else:\n",
    "    print(\"Sequence is non-coding.\")"
   ]
  },
  {
   "cell_type": "markdown",
   "metadata": {},
   "source": [
    "Handling Missing Data"
   ]
  },
  {
   "cell_type": "code",
   "execution_count": 72,
   "metadata": {},
   "outputs": [
    {
     "name": "stdout",
     "output_type": "stream",
     "text": [
      "No missing data. Proceed with analysis.\n"
     ]
    }
   ],
   "source": [
    "data_missing = False\n",
    "\n",
    "if data_missing:\n",
    "    print(\"Missing data detected. Impute or address missing values.\")\n",
    "else:\n",
    "    print(\"No missing data. Proceed with analysis.\")"
   ]
  },
  {
   "cell_type": "markdown",
   "metadata": {},
   "source": [
    "Variant Annotation"
   ]
  },
  {
   "cell_type": "code",
   "execution_count": 73,
   "metadata": {},
   "outputs": [
    {
     "name": "stdout",
     "output_type": "stream",
     "text": [
      "High-impact variants. Prioritize for further investigation.\n"
     ]
    }
   ],
   "source": [
    "functional_impact = \"high\"\n",
    "\n",
    "if functional_impact == \"high\":\n",
    "    print(\"High-impact variants. Prioritize for further investigation.\")\n",
    "else:\n",
    "    print(\"Low-impact variants. Consider in the context of other analyses.\")"
   ]
  },
  {
   "cell_type": "markdown",
   "metadata": {},
   "source": [
    "# Iterative Processes in Bioinformatics with For Loop"
   ]
  },
  {
   "cell_type": "markdown",
   "metadata": {},
   "source": [
    "Processing Multiple Protein Sequences"
   ]
  },
  {
   "cell_type": "code",
   "execution_count": 74,
   "metadata": {},
   "outputs": [
    {
     "name": "stdout",
     "output_type": "stream",
     "text": [
      "Molecular weight of MHTGKVY: 834.98 Da\n",
      "Molecular weight of PLKQRTV: 841.01 Da\n",
      "Molecular weight of SWSEVFRG: 967.04 Da\n"
     ]
    }
   ],
   "source": [
    "from Bio.SeqUtils import molecular_weight\n",
    "\n",
    "protein_sequences = [\"MHTGKVY\", \"PLKQRTV\", \"SWSEVFRG\"]\n",
    "\n",
    "for sequence in protein_sequences:\n",
    "    weight = molecular_weight(sequence, seq_type=\"protein\")\n",
    "    print(f\"Molecular weight of {sequence}: {weight:.2f} Da\")"
   ]
  },
  {
   "cell_type": "markdown",
   "metadata": {},
   "source": [
    "Analyzing Codon Usage in Genomic Data"
   ]
  },
  {
   "cell_type": "code",
   "execution_count": 75,
   "metadata": {},
   "outputs": [
    {
     "name": "stdout",
     "output_type": "stream",
     "text": [
      "Defaulting to user installation because normal site-packages is not writeable\n",
      "Requirement already satisfied: biopython in /home/tbkhori_/.local/lib/python3.9/site-packages (1.84)\n",
      "Requirement already satisfied: numpy in /home/tbkhori_/.local/lib/python3.9/site-packages (from biopython) (2.0.1)\n",
      "\u001b[33mWARNING: Error parsing dependencies of gpg: Invalid version: '1.14.0-unknown'\u001b[0m\u001b[33m\n",
      "\u001b[0m\u001b[33mWARNING: Error parsing dependencies of wfuzz: Expected end or semicolon (after version specifier)\n",
      "    pyparsing>=2.4*\n",
      "             ~~~~~^\u001b[0m\u001b[33m\n",
      "\u001b[0m\n",
      "\u001b[1m[\u001b[0m\u001b[34;49mnotice\u001b[0m\u001b[1;39;49m]\u001b[0m\u001b[39;49m A new release of pip is available: \u001b[0m\u001b[31;49m24.1.2\u001b[0m\u001b[39;49m -> \u001b[0m\u001b[32;49m24.2\u001b[0m\n",
      "\u001b[1m[\u001b[0m\u001b[34;49mnotice\u001b[0m\u001b[1;39;49m]\u001b[0m\u001b[39;49m To update, run: \u001b[0m\u001b[32;49mpip install --upgrade pip\u001b[0m\n",
      "Note: you may need to restart the kernel to use updated packages.\n"
     ]
    }
   ],
   "source": [
    "pip install --upgrade biopython"
   ]
  },
  {
   "cell_type": "code",
   "execution_count": 76,
   "metadata": {},
   "outputs": [],
   "source": [
    "from Bio import SeqUtils"
   ]
  },
  {
   "cell_type": "code",
   "execution_count": 77,
   "metadata": {},
   "outputs": [
    {
     "name": "stdout",
     "output_type": "stream",
     "text": [
      "Name: biopython\n",
      "Version: 1.84\n",
      "Summary: Freely available tools for computational molecular biology.\n",
      "Home-page: https://biopython.org/\n",
      "Author: The Biopython Contributors\n",
      "Author-email: biopython@biopython.org\n",
      "License: \n",
      "Location: /home/tbkhori_/.local/lib/python3.9/site-packages\n",
      "Requires: numpy\n",
      "Required-by: #N/A\n",
      "Note: you may need to restart the kernel to use updated packages.\n"
     ]
    }
   ],
   "source": [
    "%pip show biopython"
   ]
  },
  {
   "cell_type": "code",
   "execution_count": 78,
   "metadata": {},
   "outputs": [
    {
     "name": "stdout",
     "output_type": "stream",
     "text": [
      "['CodonAdaptationIndex', 'GC123', 'GC_skew', 'IUPACData', 'In', 'Out', 'Phylo', 'Seq', 'SeqIO', 'SeqUtils', '_', '__', '___', '__builtin__', '__builtins__', '__doc__', '__loader__', '__name__', '__package__', '__spec__', '__vsc_ipynb_file__', '_dh', '_exit_code', '_i', '_i1', '_i10', '_i11', '_i12', '_i13', '_i14', '_i15', '_i16', '_i17', '_i18', '_i19', '_i2', '_i20', '_i21', '_i22', '_i23', '_i24', '_i25', '_i26', '_i27', '_i28', '_i29', '_i3', '_i30', '_i31', '_i32', '_i33', '_i34', '_i35', '_i36', '_i37', '_i38', '_i39', '_i4', '_i40', '_i41', '_i42', '_i43', '_i44', '_i45', '_i46', '_i47', '_i48', '_i49', '_i5', '_i50', '_i51', '_i52', '_i53', '_i54', '_i55', '_i56', '_i57', '_i58', '_i59', '_i6', '_i60', '_i61', '_i62', '_i63', '_i64', '_i65', '_i66', '_i67', '_i68', '_i69', '_i7', '_i70', '_i71', '_i72', '_i73', '_i74', '_i75', '_i76', '_i77', '_i78', '_i8', '_i9', '_ih', '_ii', '_iii', '_oh', 'alignments', 'all_genes', 'average_length', 'base', 'bed_file_path', 'best_alignment', 'calculate_gc_content', 'calculate_protein_folding_energy', 'codon_usage', 'common_genes', 'complement', 'complement_rna', 'condition_1', 'condition_2', 'cos', 'count', 'count_nucleotides', 'csv_file_path', 'data_missing', 'data_type', 'description', 'dna_sequence', 'entropy_change', 'exit', 'exp', 'expression_level', 'expression_levels', 'extract_motifs', 'fasta_file', 'fasta_sequences', 'fastq_file_path', 'file', 'find_motif_occurrences', 'find_motif_positions', 'folding_energy', 'format_alignment', 'functional_impact', 'gc_content', 'gc_fraction', 'gc_percentage', 'gct_frequency', 'gene', 'gene_a_sequence', 'gene_annotations', 'gene_b_annotation', 'gene_coordinates', 'gene_data', 'gene_ids_set', 'gene_lengths', 'gene_list', 'gene_motifs', 'gene_name', 'gene_names', 'gene_relationships', 'gene_sequence', 'gene_sequences', 'genes', 'get_ipython', 'gff_file_path', 'header', 'high_expression_genes', 'is_gene_in_pathway', 'is_pathway_a_subset', 'key', 'level', 'log', 'long_genes', 'math', 'mean_condition_1', 'mean_condition_2', 'molecular_weight', 'motif', 'motif_length', 'motif_occurrences', 'motif_positions', 'name', 'normalized_levels', 'np', 'nt_search', 'nucleotide_counts', 'num_genes', 'open', 'organism', 'output_file', 'output_message', 'p_value', 'pairwise2', 'pathway_a_genes', 'pathway_b_genes', 'pathway_data', 'pathway_genes', 'pathway_interactions', 'pd', 'percentage', 'pi', 'protein_c_info', 'protein_sequence', 'protein_sequences', 'protein_structures', 'qualities', 'quit', 're', 'reads', 'rev_comp_sequence', 'reverse_complement', 'scipy', 'seq1', 'seq3', 'sequence', 'sequence_1', 'sequence_2', 'sequence_quality', 'sequence_type', 'sequences', 'sin', 'six_frame_translations', 'standard_dna_table', 'std_dev_condition_1', 'std_dev_condition_2', 'summary_message', 't_stat', 'temperature', 'total_genomic_span', 'translate', 'tree_file_path', 'ttest_ind', 'unique_to_pathway_a', 'unique_to_pathway_a_or_b', 'value', 'variant_present', 'vcf_file_path', 'weight', 'xGC_skew']\n"
     ]
    }
   ],
   "source": [
    "from Bio.SeqUtils import *\n",
    "print(dir())\n",
    "gene_list = [\"GeneA\", \"GeneB\", \"GeneC\"]\n",
    "\n",
    "#for gene in gene_list:\n",
    "#    codon_table = CodonUsage.CodonsDict[gene]\n",
    "#print(f\"Codon usage for {gene}: {codon_table}\")"
   ]
  },
  {
   "cell_type": "code",
   "execution_count": 79,
   "metadata": {},
   "outputs": [
    {
     "name": "stdout",
     "output_type": "stream",
     "text": [
      "Codon usage for GeneA:\n",
      "  ATG: 0.3333\n",
      "  GCG: 0.3333\n",
      "  TGA: 0.3333\n",
      "\n",
      "Codon usage for GeneB:\n",
      "  ATG: 0.3333\n",
      "  TCA: 0.3333\n",
      "  TGA: 0.3333\n",
      "\n",
      "Codon usage for GeneC:\n",
      "  ATG: 0.3333\n",
      "  CCC: 0.3333\n",
      "  TGA: 0.3333\n",
      "\n"
     ]
    }
   ],
   "source": [
    "from Bio.Seq import Seq\n",
    "from Bio.Data import CodonTable\n",
    "import collections\n",
    "\n",
    "def calculate_codon_usage(sequence):\n",
    "    # Ensure the sequence length is divisible by 3\n",
    "    if len(sequence) % 3 != 0:\n",
    "        raise ValueError(\"Sequence length must be divisible by 3\")\n",
    "    \n",
    "    # Split the sequence into codons\n",
    "    codons = [sequence[i:i+3] for i in range(0, len(sequence), 3)]\n",
    "    \n",
    "    # Count the occurrences of each codon\n",
    "    codon_count = collections.Counter(codons)\n",
    "    \n",
    "    # Calculate the frequency of each codon\n",
    "    total_codons = sum(codon_count.values())\n",
    "    codon_frequency = {codon: count / total_codons for codon, count in codon_count.items()}\n",
    "    \n",
    "    return codon_frequency\n",
    "\n",
    "# Example usage\n",
    "gene_list = [\"GeneA\", \"GeneB\", \"GeneC\"]\n",
    "\n",
    "# Example sequences (replace these with your actual sequences)\n",
    "sequences = {\n",
    "    \"GeneA\": \"ATGGCGTGA\",\n",
    "    \"GeneB\": \"ATGTCATGA\",\n",
    "    \"GeneC\": \"ATGCCCTGA\"\n",
    "}\n",
    "\n",
    "for gene in gene_list:\n",
    "    sequence = sequences[gene]\n",
    "    codon_usage = calculate_codon_usage(sequence)\n",
    "    print(f\"Codon usage for {gene}:\")\n",
    "    for codon, frequency in codon_usage.items():\n",
    "        print(f\"  {codon}: {frequency:.4f}\")\n",
    "    print()"
   ]
  },
  {
   "cell_type": "markdown",
   "metadata": {},
   "source": [
    "Batch Processing of Sequences"
   ]
  },
  {
   "cell_type": "code",
   "execution_count": 80,
   "metadata": {},
   "outputs": [
    {
     "name": "stdout",
     "output_type": "stream",
     "text": [
      "GC content of ATGCGTACGCTAGCTAGCTAGCG: 56.52%\n",
      "GC content of ATCGATCGATCGTACGTAGCTAGC: 50.00%\n",
      "GC content of AGCTAGCTAGCTAGCGATCGATCGA: 52.00%\n"
     ]
    }
   ],
   "source": [
    "from Bio.SeqUtils import gc_fraction\n",
    "\n",
    "dna_sequences = [\"ATGCGTACGCTAGCTAGCTAGCG\", \"ATCGATCGATCGTACGTAGCTAGC\", \"AGCTAGCTAGCTAGCGATCGATCGA\"]\n",
    "\n",
    "for sequence in dna_sequences:\n",
    "    gc_content = gc_fraction(sequence) * 100\n",
    "    print(f\"GC content of {sequence}: {gc_content:.2f}%\")"
   ]
  },
  {
   "cell_type": "markdown",
   "metadata": {},
   "source": [
    "Comparing Multiple Protein Structures"
   ]
  },
  {
   "cell_type": "code",
   "execution_count": 81,
   "metadata": {},
   "outputs": [
    {
     "name": "stdout",
     "output_type": "stream",
     "text": [
      "GeneC has 4 exons and 6 introns.\n"
     ]
    }
   ],
   "source": [
    "gene_exon_structures = {\"GeneA\": (2, 4), \"GeneB\": (3, 5), \"GeneC\": (4, 6)}\n",
    "\n",
    "for gene, structure in gene_exon_structures.items():\n",
    "    exons, introns = structure\n",
    "print(f\"{gene} has {exons} exons and {introns} introns.\")"
   ]
  },
  {
   "cell_type": "markdown",
   "metadata": {},
   "source": [
    "Analyzing Exon-Intron Structures"
   ]
  },
  {
   "cell_type": "code",
   "execution_count": 82,
   "metadata": {},
   "outputs": [
    {
     "name": "stdout",
     "output_type": "stream",
     "text": [
      "Length of ProteinC: 8 amino acids\n"
     ]
    }
   ],
   "source": [
    "protein_structures = {\"ProteinA\": \"MHTGKVY\", \"ProteinB\": \"PLKQRTV\", \"ProteinC\": \"SWSEVFRG\"}\n",
    "\n",
    "for protein, sequence in protein_structures.items():\n",
    "    length = len(sequence)\n",
    "print(f\"Length of {protein}: {length} amino acids\")"
   ]
  },
  {
   "cell_type": "markdown",
   "metadata": {},
   "source": [
    "Filtering Variants in Genomic Data"
   ]
  },
  {
   "cell_type": "code",
   "execution_count": 83,
   "metadata": {},
   "outputs": [
    {
     "name": "stdout",
     "output_type": "stream",
     "text": [
      "High-quality variants: ['SNP1', 'SNP3']\n"
     ]
    }
   ],
   "source": [
    "variant_data = [(\"SNP1\", 30), (\"SNP2\", 25), (\"SNP3\", 35)]\n",
    "\n",
    "high_quality_variants = []\n",
    "\n",
    "for variant, quality in variant_data:\n",
    "    if quality >= 30:\n",
    "        high_quality_variants.append(variant)\n",
    "\n",
    "print(f\"High-quality variants: {high_quality_variants}\")"
   ]
  },
  {
   "cell_type": "markdown",
   "metadata": {},
   "source": [
    "Automating File Processing"
   ]
  },
  {
   "cell_type": "code",
   "execution_count": null,
   "metadata": {},
   "outputs": [],
   "source": [
    "import os\n",
    "from Bio import SeqIO\n",
    "\n",
    "fasta_directory = \"/path/to/fasta/files\"\n",
    "\n",
    "for filename in os.listdir(fasta_directory):\n",
    "    if filename.endswith(\".fasta\"):\n",
    "        filepath = os.path.join(fasta_directory, filename)\n",
    "        sequence_record = SeqIO.read(filepath, \"fasta\")\n",
    "        gc_content = GC(sequence_record.seq)\n",
    "print(f\"GC content of {filename}: {gc_content:.2f}%\")"
   ]
  },
  {
   "cell_type": "markdown",
   "metadata": {},
   "source": [
    "# Utilizing While Loops for Continuous Data Analysis in Bioinformatics"
   ]
  },
  {
   "cell_type": "markdown",
   "metadata": {},
   "source": [
    "Continuous Monitoring of Gene Expression"
   ]
  },
  {
   "cell_type": "code",
   "execution_count": 85,
   "metadata": {},
   "outputs": [
    {
     "name": "stdout",
     "output_type": "stream",
     "text": [
      "Current gene expression: 3.28\n",
      "Target gene expression reached. Initiating downstream analysis.\n"
     ]
    }
   ],
   "source": [
    "import random\n",
    "\n",
    "target_expression = 3.0\n",
    "current_expression = 2.0\n",
    "\n",
    "while current_expression < target_expression:\n",
    "# Simulating gene expression changes\n",
    "    current_expression += random.uniform(0.1, 0.5)\n",
    "print(f\"Current gene expression: {current_expression:.2f}\")\n",
    "\n",
    "print(\"Target gene expression reached. Initiating downstream analysis.\")"
   ]
  },
  {
   "cell_type": "markdown",
   "metadata": {},
   "source": [
    " Iterative Parameter Optimization"
   ]
  },
  {
   "cell_type": "code",
   "execution_count": 86,
   "metadata": {},
   "outputs": [
    {
     "name": "stdout",
     "output_type": "stream",
     "text": [
      "Current accuracy: 0.956\n",
      "Optimal parameters achieved. Proceeding with analysis.\n"
     ]
    }
   ],
   "source": [
    "import numpy as np\n",
    "\n",
    "target_accuracy = 0.95\n",
    "current_accuracy = 0.80\n",
    "learning_rate = 0.02\n",
    "\n",
    "while current_accuracy < target_accuracy:\n",
    "# Simulating parameter optimization\n",
    "    current_accuracy += np.random.normal(loc=learning_rate, scale=0.01)\n",
    "    learning_rate *= 0.95 # Decay the learning rate\n",
    "print(f\"Current accuracy: {current_accuracy:.3f}\")\n",
    "\n",
    "print(\"Optimal parameters achieved. Proceeding with analysis.\")"
   ]
  },
  {
   "cell_type": "markdown",
   "metadata": {},
   "source": [
    "Continuous Data Streaming Analysis"
   ]
  },
  {
   "cell_type": "code",
   "execution_count": 87,
   "metadata": {},
   "outputs": [
    {
     "name": "stdout",
     "output_type": "stream",
     "text": [
      "Current value in data stream: 10\n",
      "Stopping criterion met. Finalizing data analysis.\n"
     ]
    }
   ],
   "source": [
    "import time\n",
    "\n",
    "threshold_value = 10\n",
    "current_value = 0\n",
    "\n",
    "while current_value < threshold_value:\n",
    "# Simulating continuous data stream\n",
    "    current_value += 1\n",
    "    time.sleep(1) # Simulating a pause between data points\n",
    "print(f\"Current value in data stream: {current_value}\")\n",
    "\n",
    "print(\"Stopping criterion met. Finalizing data analysis.\")"
   ]
  },
  {
   "cell_type": "markdown",
   "metadata": {},
   "source": [
    "Dynamic Threshold Adjustment"
   ]
  },
  {
   "cell_type": "code",
   "execution_count": 88,
   "metadata": {},
   "outputs": [
    {
     "name": "stdout",
     "output_type": "stream",
     "text": [
      "Dynamic threshold adjusted to: 12\n",
      "Dynamic threshold met. Initiating further analysis.\n"
     ]
    }
   ],
   "source": [
    "import pandas as pd\n",
    "\n",
    "data = pd.Series([5, 8, 7, 11, 9, 12, 10])\n",
    "dynamic_threshold = 10\n",
    "\n",
    "while any(data > dynamic_threshold):\n",
    "# Adjusting the threshold dynamically based on data\n",
    "    dynamic_threshold += 1\n",
    "print(f\"Dynamic threshold adjusted to: {dynamic_threshold}\")\n",
    "\n",
    "print(\"Dynamic threshold met. Initiating further analysis.\")"
   ]
  },
  {
   "cell_type": "markdown",
   "metadata": {},
   "source": [
    "Adaptive Filtering in Sequencing Data"
   ]
  },
  {
   "cell_type": "code",
   "execution_count": 89,
   "metadata": {},
   "outputs": [
    {
     "name": "stdout",
     "output_type": "stream",
     "text": [
      "Current molecular weight: 30120.62\n",
      "Target molecular weight reached. Proceeding with sequence analysis.\n"
     ]
    }
   ],
   "source": [
    "from Bio.SeqUtils import molecular_weight\n",
    "\n",
    "target_molecular_weight = 30000\n",
    "current_molecular_weight = 25000\n",
    "\n",
    "while current_molecular_weight < target_molecular_weight:\n",
    "# Simulating adaptive filtering in sequence data\n",
    "    current_molecular_weight += random.uniform(500, 1000)\n",
    "print(f\"Current molecular weight: {current_molecular_weight:.2f}\")\n",
    "\n",
    "print(\"Target molecular weight reached. Proceeding with sequence analysis.\")"
   ]
  },
  {
   "cell_type": "markdown",
   "metadata": {},
   "source": [
    "# File Handling in Python\n",
    "Techniques for Reading Various Bioinformatics File Formats:"
   ]
  },
  {
   "cell_type": "markdown",
   "metadata": {},
   "source": [
    "FASTA Files (Genomic Sequences)"
   ]
  },
  {
   "cell_type": "code",
   "execution_count": null,
   "metadata": {},
   "outputs": [],
   "source": [
    "from Bio import SeqIO\n",
    "\n",
    "fasta_file_path = \"genome.fasta\"\n",
    "\n",
    "sequences = []\n",
    "for record in SeqIO.parse(fasta_file_path, \"fasta\"):\n",
    "    sequences.append(record.seq)\n",
    "\n",
    "print(\"Genomic Sequences:\")\n",
    "for sequence in sequences:\n",
    "    print(sequence)"
   ]
  },
  {
   "cell_type": "markdown",
   "metadata": {},
   "source": [
    "FASTQ Files (Sequencing Reads with Quality Scores)"
   ]
  },
  {
   "cell_type": "code",
   "execution_count": null,
   "metadata": {},
   "outputs": [],
   "source": [
    "from Bio import SeqIO\n",
    "\n",
    "fastq_file_path = \"sequencing_reads.fastq\"\n",
    "\n",
    "reads = []\n",
    "qualities = []\n",
    "for record in SeqIO.parse(fastq_file_path, \"fastq\"):\n",
    "    reads.append(str(record.seq))\n",
    "    qualities.append(record.letter_annotations[\"phred_quality\"])\n",
    "\n",
    "print(\"Sequencing Reads:\")\n",
    "print(reads)\n",
    "print(\"Quality Scores:\")\n",
    "print(qualities)"
   ]
  },
  {
   "cell_type": "markdown",
   "metadata": {},
   "source": [
    "GFF/GTF Files (Genomic Feature Annotations)"
   ]
  },
  {
   "cell_type": "code",
   "execution_count": null,
   "metadata": {},
   "outputs": [],
   "source": [
    "import pandas as pd\n",
    "\n",
    "gff_file_path = \"annotations.gff\"\n",
    "\n",
    "# Assuming GFF file columns: ['seqid', 'source', 'type', 'start', 'end', 'score', 'strand', 'phase', 'attributes']\n",
    "annotations_df = pd.read_csv(gff_file_path, sep='\\t', header=None, comment='#', names=['seqid', 'source', 'type', 'start', 'end', 'score', 'strand', 'phase', 'attributes'])\n",
    "\n",
    "print(\"Genomic Feature Annotations:\")\n",
    "print(annotations_df)"
   ]
  },
  {
   "cell_type": "markdown",
   "metadata": {},
   "source": [
    "VCF Files (Variant Call Format)"
   ]
  },
  {
   "cell_type": "code",
   "execution_count": null,
   "metadata": {},
   "outputs": [],
   "source": [
    "import pandas as pd\n",
    "\n",
    "vcf_file_path = \"variants.vcf\"\n",
    "\n",
    "# Assuming VCF file columns: ['CHROM', 'POS', 'ID', 'REF', 'ALT', 'QUAL', 'FILTER', 'INFO', 'FORMAT', 'Sample1', 'Sample2']\n",
    "variants_df = pd.read_csv(vcf_file_path, sep='\\t', header=None, comment='#', names=['CHROM', 'POS', 'ID', 'REF', 'ALT', 'QUAL', 'FILTER', 'INFO', 'FORMAT', 'Sample1', 'Sample2'])\n",
    "\n",
    "print(\"Variant Data:\")\n",
    "print(variants_df)"
   ]
  },
  {
   "cell_type": "markdown",
   "metadata": {},
   "source": [
    "BED Files (Genomic Coordinates)"
   ]
  },
  {
   "cell_type": "code",
   "execution_count": null,
   "metadata": {},
   "outputs": [],
   "source": [
    "import pandas as pd\n",
    "\n",
    "bed_file_path = \"genomic_coordinates.bed\"\n",
    "\n",
    "# Assuming BED file columns: ['chrom', 'start', 'end', 'name', 'score', 'strand']\n",
    "coordinates_df = pd.read_csv(bed_file_path, sep='\\t', header=None, names=['chrom', 'start', 'end', 'name', 'score', 'strand'])\n",
    "\n",
    "print(\"Genomic Coordinates:\")\n",
    "print(coordinates_df)"
   ]
  },
  {
   "cell_type": "markdown",
   "metadata": {},
   "source": [
    "SAM/BAM Files (Sequence Alignment)"
   ]
  },
  {
   "cell_type": "code",
   "execution_count": null,
   "metadata": {},
   "outputs": [],
   "source": [
    "from pysam import AlignmentFile\n",
    "\n",
    "sam_file_path = \"sequence_alignment.sam\"\n",
    "\n",
    "with AlignmentFile(sam_file_path, 'r') as sam_file:\n",
    "for alignment in sam_file.fetch():\n",
    "print(\"Sequence Alignment:\")\n",
    "print(alignment)"
   ]
  },
  {
   "cell_type": "markdown",
   "metadata": {},
   "source": [
    "Phylogenetic Tree Files (Newick Format)"
   ]
  },
  {
   "cell_type": "code",
   "execution_count": null,
   "metadata": {},
   "outputs": [],
   "source": [
    "from Bio import Phylo\n",
    "\n",
    "tree_file_path = \"phylogenetic_tree.newick\"\n",
    "\n",
    "tree = Phylo.read(tree_file_path, 'newick')\n",
    "\n",
    "print(\"Phylogenetic Tree:\")\n",
    "Phylo.draw_ascii(tree)"
   ]
  },
  {
   "cell_type": "markdown",
   "metadata": {},
   "source": [
    "CSV Files (Tabular Data)"
   ]
  },
  {
   "cell_type": "code",
   "execution_count": null,
   "metadata": {},
   "outputs": [],
   "source": [
    "import pandas as pd\n",
    "\n",
    "csv_file_path = \"experimental_data.csv\"\n",
    "\n",
    "experimental_data_df = pd.read_csv(csv_file_path)\n",
    "\n",
    "print(\"Experimental Data:\")\n",
    "print(experimental_data_df)"
   ]
  },
  {
   "cell_type": "markdown",
   "metadata": {},
   "source": [
    "# Creating Output Files for Bioinformatics Results:"
   ]
  },
  {
   "cell_type": "markdown",
   "metadata": {},
   "source": [
    " Writing Genomic Sequences to a FASTA File"
   ]
  },
  {
   "cell_type": "code",
   "execution_count": null,
   "metadata": {},
   "outputs": [],
   "source": [
    "from Bio import SeqIO\n",
    "\n",
    "sequences = [Seq(\"ATGCGTACGCTAGCTAGCTAGCG\"), Seq(\"ATCGATCGATCGTACGTAGCTAGC\"), Seq(\"AGCTAGCTAGCTAGCGATCGATCGA\")]\n",
    "\n",
    "output_fasta_path = \"output_genomic_sequences.fasta\"\n",
    "\n",
    "with open(output_fasta_path, \"w\") as output_fasta:\n",
    "    SeqIO.write(sequences, output_fasta, \"fasta\")\n",
    "\n",
    "print(f\"Genomic sequences saved to {output_fasta_path}.\")"
   ]
  },
  {
   "cell_type": "markdown",
   "metadata": {},
   "source": [
    "Saving Sequencing Reads and Quality Scores to a FASTQ File"
   ]
  },
  {
   "cell_type": "code",
   "execution_count": 102,
   "metadata": {},
   "outputs": [
    {
     "name": "stdout",
     "output_type": "stream",
     "text": [
      "Genomic sequences saved to output_genomic_sequences.fasta.\n"
     ]
    }
   ],
   "source": [
    "from Bio import SeqIO\n",
    "from Bio.Seq import Seq\n",
    "from Bio.SeqRecord import SeqRecord\n",
    "\n",
    "# Assuming 'sequences' is your list of Seq objects\n",
    "output_fasta_path = \"output_genomic_sequences.fasta\"\n",
    "\n",
    "# Convert Seq objects to SeqRecord objects\n",
    "seq_records = []\n",
    "for i, seq in enumerate(sequences, start=1):\n",
    "    record = SeqRecord(seq, id=f\"sequence_{i}\", description=\"\")\n",
    "    seq_records.append(record)\n",
    "\n",
    "# Write SeqRecord objects to FASTA file\n",
    "with open(output_fasta_path, \"w\") as output_fasta:\n",
    "    SeqIO.write(seq_records, output_fasta, \"fasta\")\n",
    "\n",
    "print(f\"Genomic sequences saved to {output_fasta_path}.\")"
   ]
  },
  {
   "cell_type": "code",
   "execution_count": null,
   "metadata": {},
   "outputs": [],
   "source": [
    "from Bio import SeqIO\n",
    "\n",
    "reads = [Seq(\"ATCGATCGATCG\"), Seq(\"GCTAGCTAGCTA\"), Seq(\"ATGCGTACGCTA\")]\n",
    "qualities = [[30, 29, 28, 30], [25, 28, 30, 32], [29, 30, 28, 31]]\n",
    "\n",
    "output_fastq_path = \"output_sequencing_reads.fastq\"\n",
    "\n",
    "records = [SeqIO.SeqRecord(read, id=f\"Read{i+1}\", letter_annotations={\"phred_quality\": qual}) for i, (read, qual) in enumerate(zip(reads, qualities))]\n",
    "\n",
    "with open(output_fastq_path, \"w\") as output_fastq:\n",
    "    SeqIO.write(records, output_fastq, \"fastq\")\n",
    "\n",
    "print(f\"Sequencing reads and quality scores saved to {output_fastq_path}.\")"
   ]
  },
  {
   "cell_type": "code",
   "execution_count": 105,
   "metadata": {},
   "outputs": [
    {
     "name": "stdout",
     "output_type": "stream",
     "text": [
      "Sequencing reads saved to output_sequencing_reads.fastq.\n"
     ]
    }
   ],
   "source": [
    "from Bio import SeqIO\n",
    "from Bio.Seq import Seq\n",
    "from Bio.SeqRecord import SeqRecord\n",
    "\n",
    "# Your input data\n",
    "reads = [\"ATGCGTACGCTA\", \"CGTACGTACGTA\", \"GTACGTACGTAC\"]\n",
    "qualities = [[30, 29, 28, 30], [25, 28, 30, 32], [29, 30, 28, 31]]\n",
    "\n",
    "output_fastq_path = \"output_sequencing_reads.fastq\"\n",
    "\n",
    "# Create SeqRecord objects, ensuring quality scores match sequence length\n",
    "records = []\n",
    "for i, (read, qual) in enumerate(zip(reads, qualities)):\n",
    "    # Convert the read string to a Seq object\n",
    "    seq = Seq(read)\n",
    "    \n",
    "    # Extend or truncate quality scores to match sequence length\n",
    "    adjusted_qual = qual * (len(read) // len(qual)) + qual[:len(read) % len(qual)]\n",
    "    \n",
    "    # Create SeqRecord\n",
    "    record = SeqRecord(seq, id=f\"Read{i+1}\", description=\"\",\n",
    "                       letter_annotations={\"phred_quality\": adjusted_qual})\n",
    "    records.append(record)\n",
    "\n",
    "# Write to FASTQ file\n",
    "with open(output_fastq_path, \"w\") as output_fastq:\n",
    "    SeqIO.write(records, output_fastq, \"fastq\")\n",
    "\n",
    "print(f\"Sequencing reads saved to {output_fastq_path}.\")"
   ]
  },
  {
   "cell_type": "markdown",
   "metadata": {},
   "source": [
    "Exporting Genomic Feature Annotations to GFF/GTF File"
   ]
  },
  {
   "cell_type": "code",
   "execution_count": 106,
   "metadata": {},
   "outputs": [
    {
     "name": "stdout",
     "output_type": "stream",
     "text": [
      "Genomic feature annotations saved to output_genomic_annotations.gff.\n"
     ]
    }
   ],
   "source": [
    "import pandas as pd\n",
    "\n",
    "annotations_df = pd.DataFrame({\n",
    "'seqid': ['chr1', 'chr2', 'chr1'],\n",
    "'source': ['gene_prediction', 'gene_prediction', 'gene_prediction'],\n",
    "'type': ['gene', 'exon', 'exon'],\n",
    "'start': [100, 200, 250],\n",
    "'end': [300, 220, 270],\n",
    "'score': [None, None, None],\n",
    "'strand': ['+', '+', '-'],\n",
    "'phase': [None, None, None],\n",
    "'attributes': ['ID=GeneA', 'ID=GeneA;Parent=GeneA', 'ID=GeneA;Parent=GeneA']\n",
    "})\n",
    "\n",
    "output_gff_path = \"output_genomic_annotations.gff\"\n",
    "\n",
    "annotations_df.to_csv(output_gff_path, sep='\\t', index=False, header=False)\n",
    "\n",
    "print(f\"Genomic feature annotations saved to {output_gff_path}.\")"
   ]
  },
  {
   "cell_type": "markdown",
   "metadata": {},
   "source": [
    "Exporting Variant Data to a VCF File"
   ]
  },
  {
   "cell_type": "code",
   "execution_count": 107,
   "metadata": {},
   "outputs": [
    {
     "name": "stdout",
     "output_type": "stream",
     "text": [
      "Variant data saved to output_variant_data.vcf.\n"
     ]
    }
   ],
   "source": [
    "import pandas as pd\n",
    "\n",
    "variants_df = pd.DataFrame({\n",
    "'CHROM': ['chr1', 'chr2', 'chr1'],\n",
    "'POS': [100, 200, 300],\n",
    "'ID': ['SNP1', 'SNP2', 'SNP3'],\n",
    "'REF': ['A', 'C', 'G'],\n",
    "'ALT': ['T', 'G', 'A'],\n",
    "'QUAL': [30, 25, 35],\n",
    "'FILTER': ['PASS', 'PASS', 'PASS'],\n",
    "'INFO': ['.', '.', '.'],\n",
    "'FORMAT': ['GT', 'GT', 'GT'],\n",
    "'Sample1': ['0/1', '1/1', '0/0'],\n",
    "'Sample2': ['1/1', '0/1', '1/0']\n",
    "})\n",
    "\n",
    "output_vcf_path = \"output_variant_data.vcf\"\n",
    "\n",
    "variants_df.to_csv(output_vcf_path, sep='\\t', index=False, header=False)\n",
    "\n",
    "print(f\"Variant data saved to {output_vcf_path}.\")"
   ]
  },
  {
   "cell_type": "code",
   "execution_count": 108,
   "metadata": {},
   "outputs": [
    {
     "name": "stdout",
     "output_type": "stream",
     "text": [
      "Genomic coordinates saved to output_genomic_coordinates.bed.\n"
     ]
    }
   ],
   "source": [
    "import pandas as pd\n",
    "\n",
    "coordinates_df = pd.DataFrame({\n",
    "'chrom': ['chr1', 'chr2', 'chr1'],\n",
    "'start': [100, 200, 300],\n",
    "'end': [150, 250, 350],\n",
    "'name': ['Feature1', 'Feature2', 'Feature3'],\n",
    "'score': [None, None, None],\n",
    "'strand': ['+', '-', '+']\n",
    "})\n",
    "\n",
    "output_bed_path = \"output_genomic_coordinates.bed\"\n",
    "\n",
    "coordinates_df.to_csv(output_bed_path, sep='\\t', index=False, header=False)\n",
    "\n",
    "print(f\"Genomic coordinates saved to {output_bed_path}.\")"
   ]
  },
  {
   "cell_type": "code",
   "execution_count": 112,
   "metadata": {},
   "outputs": [
    {
     "name": "stdout",
     "output_type": "stream",
     "text": [
      "Consolidated sequences saved to consolidated_sequences.fasta.\n"
     ]
    }
   ],
   "source": [
    "from Bio.Seq import Seq\n",
    "from Bio.SeqRecord import SeqRecord\n",
    "from Bio import SeqIO\n",
    "\n",
    "# DNA Sequences\n",
    "dna_sequences = [\n",
    "Seq(\"ATGCGTACGCTAGCTAGCTAGCG\"),\n",
    "Seq(\"ATCGATCGATCGTACGTAGCTAGC\"),\n",
    "Seq(\"AGCTAGCTAGCTAGCGATCGATCGA\")\n",
    "]\n",
    "\n",
    "# Protein Sequences\n",
    "protein_sequences = [\n",
    "Seq(\"MHTGKVY\"),\n",
    "Seq(\"PLKQRTV\"),\n",
    "Seq(\"SWSEVFRG\")\n",
    "]\n",
    "\n",
    "# Consolidate sequences\n",
    "consolidated_sequences = []\n",
    "for i, dna_seq in enumerate(dna_sequences):\n",
    "    record_name = f\"DNA_Sequence_{i + 1}\"\n",
    "record_description = f\"Description for DNA Sequence {i + 1}\"\n",
    "consolidated_sequences.append(SeqRecord(dna_seq, id=record_name, description=record_description))\n",
    "\n",
    "for i, protein_seq in enumerate(protein_sequences):\n",
    "    record_name = f\"Protein_Sequence_{i + 1}\"\n",
    "record_description = f\"Description for Protein Sequence {i + 1}\"\n",
    "consolidated_sequences.append(SeqRecord(protein_seq, id=record_name, description=record_description))\n",
    "\n",
    "# Write to a single FASTA file\n",
    "output_fasta_path = \"consolidated_sequences.fasta\"\n",
    "with open(output_fasta_path, \"w\") as output_fasta:\n",
    "    SeqIO.write(consolidated_sequences, output_fasta, \"fasta\")\n",
    "\n",
    "print(f\"Consolidated sequences saved to {output_fasta_path}.\")"
   ]
  },
  {
   "cell_type": "markdown",
   "metadata": {},
   "source": [
    "# Interfacing with the operating system"
   ]
  },
  {
   "cell_type": "markdown",
   "metadata": {},
   "source": [
    "Creating Directories for Data Organization"
   ]
  },
  {
   "cell_type": "code",
   "execution_count": 113,
   "metadata": {},
   "outputs": [
    {
     "name": "stdout",
     "output_type": "stream",
     "text": [
      "Directories created: bioinformatics_data/fasta_files, bioinformatics_data/analysis_results\n"
     ]
    }
   ],
   "source": [
    "import os\n",
    "\n",
    "# Define directory names\n",
    "data_dir = \"bioinformatics_data\"\n",
    "fasta_dir = os.path.join(data_dir, \"fasta_files\")\n",
    "results_dir = os.path.join(data_dir, \"analysis_results\")\n",
    "\n",
    "# Create directories\n",
    "os.makedirs(fasta_dir, exist_ok=True)\n",
    "os.makedirs(results_dir, exist_ok=True)\n",
    "\n",
    "print(f\"Directories created: {fasta_dir}, {results_dir}\")"
   ]
  },
  {
   "cell_type": "markdown",
   "metadata": {},
   "source": [
    "Moving Files to Respective Directories"
   ]
  },
  {
   "cell_type": "code",
   "execution_count": 115,
   "metadata": {},
   "outputs": [
    {
     "name": "stdout",
     "output_type": "stream",
     "text": [
      "FASTA files moved to the designated directory.\n"
     ]
    }
   ],
   "source": [
    "import shutil\n",
    "\n",
    "# Assuming you have existing FASTA files in the current directory\n",
    "fasta_files = [file for file in os.listdir() if file.endswith(\".fasta\")]\n",
    "\n",
    "for file in fasta_files:\n",
    "# Move files to the fasta directory\n",
    "    shutil.move(file, os.path.join(fasta_dir, file))\n",
    "\n",
    "print(\"FASTA files moved to the designated directory.\")"
   ]
  },
  {
   "cell_type": "markdown",
   "metadata": {},
   "source": [
    "Listing Files in a Directory"
   ]
  },
  {
   "cell_type": "code",
   "execution_count": 117,
   "metadata": {},
   "outputs": [
    {
     "name": "stdout",
     "output_type": "stream",
     "text": [
      "Files in the results directory:\n"
     ]
    }
   ],
   "source": [
    "result_files = os.listdir(results_dir)\n",
    "\n",
    "print(\"Files in the results directory:\")\n",
    "for file in result_files:\n",
    "    print(file)"
   ]
  },
  {
   "cell_type": "markdown",
   "metadata": {},
   "source": [
    "Renaming Files"
   ]
  },
  {
   "cell_type": "code",
   "execution_count": null,
   "metadata": {},
   "outputs": [],
   "source": [
    "# Assume you have result files with inconsistent names\n",
    "# Define old_name first\n",
    "for old_name in result_files:\n",
    "    new_name = old_name.replace(\"_\", \"_\") # Replace spaces with underscores\n",
    "os.rename(os.path.join(results_dir, old_name), os.path.join(results_dir, new_name))\n",
    "\n",
    "print(\"Files renamed for consistency.\")"
   ]
  },
  {
   "cell_type": "markdown",
   "metadata": {},
   "source": [
    "Deleting Unnecessary Files"
   ]
  },
  {
   "cell_type": "code",
   "execution_count": 122,
   "metadata": {},
   "outputs": [
    {
     "name": "stdout",
     "output_type": "stream",
     "text": [
      "Unnecessary files removed.\n"
     ]
    }
   ],
   "source": [
    "unwanted_files = [\"temp.txt\", \"unnecessary_data.csv\"]\n",
    "\n",
    "for file in unwanted_files:\n",
    "    file_path = os.path.join(data_dir, file)\n",
    "if os.path.exists(file_path):\n",
    "    os.remove(file_path)\n",
    "\n",
    "print(\"Unnecessary files removed.\")"
   ]
  },
  {
   "cell_type": "markdown",
   "metadata": {},
   "source": [
    "Checking File Existence"
   ]
  },
  {
   "cell_type": "code",
   "execution_count": null,
   "metadata": {},
   "outputs": [],
   "source": [
    "# add file \"important_data.txt\"\n",
    "target_file = \"important_data.txt\"\n",
    "\n",
    "if os.path.exists(os.path.join(data_dir, target_file)):\n",
    "# Perform an operation using the file\n",
    "    print(f\"Processing {target_file}\")\n",
    "else:\n",
    "    print(f\"{target_file} not found.\")"
   ]
  },
  {
   "cell_type": "markdown",
   "metadata": {},
   "source": [
    "Navigating Through Directories"
   ]
  },
  {
   "cell_type": "code",
   "execution_count": 128,
   "metadata": {},
   "outputs": [
    {
     "name": "stdout",
     "output_type": "stream",
     "text": [
      "Current directory: bioinformatics_data\n",
      "Current directory: bioinformatics_data/fasta_files\n",
      "Current directory: bioinformatics_data/analysis_results\n",
      "Files: []\n",
      "Directories: []\n",
      "\n"
     ]
    }
   ],
   "source": [
    "for root, dirs, files in os.walk(data_dir):\n",
    "    print(f\"Current directory: {root}\")\n",
    "print(\"Files:\", files)\n",
    "print(\"Directories:\", dirs)\n",
    "print()"
   ]
  },
  {
   "cell_type": "markdown",
   "metadata": {},
   "source": [
    "# Handling CSV (Comma-Separated Values) files"
   ]
  },
  {
   "cell_type": "markdown",
   "metadata": {},
   "source": [
    "Reading Genomic Data from CSV"
   ]
  },
  {
   "cell_type": "code",
   "execution_count": null,
   "metadata": {},
   "outputs": [],
   "source": [
    "import pandas as pd\n",
    "\n",
    "# Assuming CSV file columns: ['GeneID', 'GeneName', 'ExpressionLevel', 'VariantCount']\n",
    "csv_file_path = \"genomic_data.csv\"\n",
    "\n",
    "genomic_data_df = pd.read_csv(csv_file_path)\n",
    "\n",
    "print(\"Genomic Data:\")\n",
    "print(genomic_data_df)"
   ]
  },
  {
   "cell_type": "markdown",
   "metadata": {},
   "source": [
    "Filtering Genes Based on Expression Level"
   ]
  },
  {
   "cell_type": "code",
   "execution_count": null,
   "metadata": {},
   "outputs": [],
   "source": [
    "# define genomic_data_df\n",
    "expression_threshold = 2.5\n",
    "high_expression_genes = genomic_data_df[genomic_data_df['ExpressionLevel'] > expression_threshold]\n",
    "\n",
    "print(\"Genes with High Expression:\")\n",
    "print(high_expression_genes)"
   ]
  },
  {
   "cell_type": "markdown",
   "metadata": {},
   "source": [
    "Sorting Genomic Data by Variant Count"
   ]
  },
  {
   "cell_type": "code",
   "execution_count": null,
   "metadata": {},
   "outputs": [],
   "source": [
    "sorted_genomic_data = genomic_data_df.sort_values(by='VariantCount', ascending=False)\n",
    "\n",
    "print(\"Sorted Genomic Data by Variant Count:\")\n",
    "print(sorted_genomic_data)"
   ]
  },
  {
   "cell_type": "markdown",
   "metadata": {},
   "source": [
    "Adding a New Column"
   ]
  },
  {
   "cell_type": "code",
   "execution_count": null,
   "metadata": {},
   "outputs": [],
   "source": [
    "genomic_data_df['VariantExpressionRatio'] = genomic_data_df['VariantCount'] / genomic_data_df['ExpressionLevel']\n",
    "\n",
    "print(\"Genomic Data with Variant Expression Ratio:\")\n",
    "print(genomic_data_df)"
   ]
  },
  {
   "cell_type": "markdown",
   "metadata": {},
   "source": [
    "Grouping and Aggregating Data"
   ]
  },
  {
   "cell_type": "code",
   "execution_count": null,
   "metadata": {},
   "outputs": [],
   "source": [
    "gene_expression_means = genomic_data_df.groupby('GeneName')['ExpressionLevel'].mean().reset_index()\n",
    "\n",
    "print(\"Mean Expression Level by Gene:\")\n",
    "print(gene_expression_means)"
   ]
  },
  {
   "cell_type": "markdown",
   "metadata": {},
   "source": [
    "Exporting Modified Data to CSV"
   ]
  },
  {
   "cell_type": "code",
   "execution_count": null,
   "metadata": {},
   "outputs": [],
   "source": [
    "output_csv_path = \"modified_genomic_data.csv\"\n",
    "genomic_data_df.to_csv(output_csv_path, index=False)\n",
    "\n",
    "print(f\"Modified genomic data saved to {output_csv_path}.\")"
   ]
  },
  {
   "cell_type": "markdown",
   "metadata": {},
   "source": [
    "Handling Missing Data"
   ]
  },
  {
   "cell_type": "code",
   "execution_count": null,
   "metadata": {},
   "outputs": [],
   "source": [
    "genomic_data_df.fillna({'VariantCount': 0}, inplace=True)\n",
    "\n",
    "print(\"Genomic Data with NaN values filled:\")\n",
    "print(genomic_data_df)"
   ]
  },
  {
   "cell_type": "markdown",
   "metadata": {},
   "source": [
    "Merging Genomic Data with Metadata"
   ]
  },
  {
   "cell_type": "code",
   "execution_count": null,
   "metadata": {},
   "outputs": [],
   "source": [
    "# Include a file named 'gene_metadata.csv\n",
    "metadata_csv_path = \"gene_metadata.csv\"\n",
    "\n",
    "metadata_df = pd.read_csv(metadata_csv_path)\n",
    "merged_data = pd.merge(genomic_data_df, metadata_df, on='GeneID', how='inner')\n",
    "\n",
    "print(\"Merged Genomic Data with Metadata:\")\n",
    "print(merged_data)"
   ]
  },
  {
   "cell_type": "markdown",
   "metadata": {},
   "source": [
    "Functions & Modules in Python"
   ]
  },
  {
   "cell_type": "markdown",
   "metadata": {},
   "source": [
    "Calculate GC Content"
   ]
  },
  {
   "cell_type": "code",
   "execution_count": 144,
   "metadata": {},
   "outputs": [],
   "source": [
    "def calculate_gc_content(dna_sequence):\n",
    "    \"\"\"\n",
    "Calculate GC content of a DNA sequence.\n",
    "Args:\n",
    "dna_sequence (str): Input DNA sequence.\n",
    "Returns:\n",
    "float: GC content as a percentage.\n",
    "    \"\"\"\n",
    "    gc_count = dna_sequence.count('G') + dna_sequence.count('C')\n",
    "    total_bases = len(dna_sequence)\n",
    "    gc_content = (gc_count / total_bases) * 100\n",
    "    return gc_content"
   ]
  },
  {
   "cell_type": "markdown",
   "metadata": {},
   "source": [
    "Translate DNA Sequence to Protein"
   ]
  },
  {
   "cell_type": "code",
   "execution_count": 145,
   "metadata": {},
   "outputs": [],
   "source": [
    "from Bio.Seq import Seq\n",
    "\n",
    "def translate_dna_to_protein(dna_sequence):\n",
    "    \"\"\"\n",
    "Translate a DNA sequence to a protein sequence.\n",
    "Args:\n",
    "dna_sequence (str): Input DNA sequence.\n",
    "Returns:\n",
    "str: Translated protein sequence.\n",
    "    \"\"\"\n",
    "    translated_sequence = Seq(dna_sequence).translate()\n",
    "    return str(translated_sequence)"
   ]
  },
  {
   "cell_type": "markdown",
   "metadata": {},
   "source": [
    "Perform Quality Control Check"
   ]
  },
  {
   "cell_type": "code",
   "execution_count": 148,
   "metadata": {},
   "outputs": [],
   "source": [
    "def quality_control_check(sequence_quality):\n",
    "    \"\"\"\n",
    "Perform quality control check on sequencing data.\n",
    "Args:\n",
    "sequence_quality (int): Quality score of the sequencing data.\n",
    "Returns:\n",
    "str: Result of the quality control check.\n",
    "    \"\"\"\n",
    "    if sequence_quality >= 30:\n",
    "        return \"High-quality data. Proceed with analysis.\"\n",
    "    else:\n",
    "        return \"Low-quality data. Consider re-sequencing or trimming.\""
   ]
  },
  {
   "cell_type": "markdown",
   "metadata": {},
   "source": [
    "Filter Genes Based on Expression Level"
   ]
  },
  {
   "cell_type": "code",
   "execution_count": 150,
   "metadata": {},
   "outputs": [],
   "source": [
    "def filter_genes_by_expression(gene_data, expression_threshold):\n",
    "    \"\"\"\n",
    "Filter genes based on expression level.\n",
    "Args:\n",
    "gene_data (DataFrame): Genomic data with expression levels.\n",
    "expression_threshold (float): Threshold for expression level.\n",
    "Returns:\n",
    "DataFrame: Filtered genes.\n",
    "    \"\"\"\n",
    "    high_expression_genes = gene_data[gene_data['ExpressionLevel'] > expression_threshold]\n",
    "    return high_expression_genes"
   ]
  },
  {
   "cell_type": "markdown",
   "metadata": {},
   "source": [
    " Retrieve Sequences from FASTA File"
   ]
  },
  {
   "cell_type": "code",
   "execution_count": null,
   "metadata": {},
   "outputs": [],
   "source": [
    "# create 'genome.fasta in fasta_file_path'\n",
    "from Bio import SeqIO\n",
    "\n",
    "def retrieve_sequences_from_fasta(fasta_file_path):\n",
    "    \"\"\"\n",
    "Retrieve sequences from a FASTA file.\n",
    "Args:\n",
    "fasta_file_path (str): Path to the FASTA file.\n",
    "Returns:\n",
    "list: List of SeqRecord objects.\n",
    "    \"\"\"\n",
    "sequences = []\n",
    "for record in SeqIO.parse(fasta_file_path, \"fasta\"):\n",
    "    sequences.append(record)\n",
    "return sequences"
   ]
  },
  {
   "cell_type": "markdown",
   "metadata": {},
   "source": [
    "Perform Statistical Analysis"
   ]
  },
  {
   "cell_type": "code",
   "execution_count": 164,
   "metadata": {},
   "outputs": [
    {
     "name": "stdout",
     "output_type": "stream",
     "text": [
      "{'mean': np.float64(3.0), 'median': np.float64(3.0), 'std_dev': np.float64(1.4142135623730951)}\n"
     ]
    }
   ],
   "source": [
    "import numpy as np\n",
    "\n",
    "def perform_statistical_analysis(data):\n",
    "    \"\"\"\n",
    "    Perform statistical analysis on a dataset.\n",
    "    \n",
    "    Args:\n",
    "    data (list): Numeric dataset for analysis.\n",
    "    \n",
    "    Returns:\n",
    "    dict: Dictionary containing mean, median, and standard deviation.\n",
    "    \"\"\"\n",
    "    result = {\n",
    "        'mean': np.mean(data),\n",
    "        'median': np.median(data),\n",
    "        'std_dev': np.std(data)\n",
    "    }\n",
    "    return result\n",
    "\n",
    "# Example usage:\n",
    "sample_data = [1, 2, 3, 4, 5]\n",
    "analysis_result = perform_statistical_analysis(sample_data)\n",
    "print(analysis_result)"
   ]
  },
  {
   "cell_type": "markdown",
   "metadata": {},
   "source": [
    "with statement in Python"
   ]
  },
  {
   "cell_type": "markdown",
   "metadata": {},
   "source": [
    "Reading from a FASTA File"
   ]
  },
  {
   "cell_type": "code",
   "execution_count": null,
   "metadata": {},
   "outputs": [],
   "source": [
    "from Bio import SeqIO\n",
    "\n",
    "fasta_file_path = \"genomic_sequences.fasta\"\n",
    "\n",
    "with open(fasta_file_path, \"r\") as fasta_file:\n",
    "    for record in SeqIO.parse(fasta_file, \"fasta\"):\n",
    "        print(\"Header:\", record.id)\n",
    "        print(\"Sequence:\", record.seq)"
   ]
  },
  {
   "cell_type": "markdown",
   "metadata": {},
   "source": [
    "Writing to a New FASTA File"
   ]
  },
  {
   "cell_type": "code",
   "execution_count": 171,
   "metadata": {},
   "outputs": [
    {
     "name": "stdout",
     "output_type": "stream",
     "text": [
      "Sequences saved to output_sequences.fasta.\n"
     ]
    }
   ],
   "source": [
    "from Bio.Seq import Seq\n",
    "from Bio.SeqRecord import SeqRecord\n",
    "\n",
    "output_fasta_path = \"output_sequences.fasta\"\n",
    "\n",
    "sequences = [SeqRecord(Seq(\"ATGCGTACGCTAGCTAGCTAGCG\"), id=\"Seq1\"), SeqRecord(Seq(\"ATCGATCGATCGTACGTAGCTAGC\"), id=\"Seq2\")]\n",
    "\n",
    "with open(output_fasta_path, \"w\") as output_fasta:\n",
    "    SeqIO.write(sequences, output_fasta, \"fasta\")\n",
    "\n",
    "print(f\"Sequences saved to {output_fasta_path}.\")"
   ]
  },
  {
   "cell_type": "markdown",
   "metadata": {},
   "source": [
    "Performing File Operations with os Module"
   ]
  },
  {
   "cell_type": "code",
   "execution_count": 181,
   "metadata": {},
   "outputs": [
    {
     "name": "stdout",
     "output_type": "stream",
     "text": [
      "Directory: fasta_files\n",
      "Directory: analysis_results\n"
     ]
    }
   ],
   "source": [
    "import os\n",
    "\n",
    "data_directory = \"bioinformatics_data\"\n",
    "\n",
    "with os.scandir(data_directory) as directory_contents:\n",
    "    for entry in directory_contents:\n",
    "        if entry.is_file():\n",
    "            print(\"File:\", entry.name)\n",
    "        elif entry.is_dir():\n",
    "            print(\"Directory:\", entry.name)"
   ]
  },
  {
   "cell_type": "markdown",
   "metadata": {},
   "source": [
    "Managing Database Connections"
   ]
  },
  {
   "cell_type": "code",
   "execution_count": null,
   "metadata": {},
   "outputs": [],
   "source": [
    "import sqlite3\n",
    "\n",
    "database_path = \"bioinformatics_db.sqlite\"\n",
    "\n",
    "with sqlite3.connect(database_path) as conn:\n",
    "    cursor = conn.cursor()\n",
    "# Perform database operations using cursor\n",
    "cursor.execute(\"SELECT * FROM genomic_data\")\n",
    "results = cursor.fetchall()\n",
    "for row in results:\n",
    "    print(row)"
   ]
  },
  {
   "cell_type": "markdown",
   "metadata": {},
   "source": [
    "Handling Transactions in Database Operations"
   ]
  },
  {
   "cell_type": "code",
   "execution_count": null,
   "metadata": {},
   "outputs": [],
   "source": [
    "import sqlite3\n",
    "\n",
    "database_path = \"bioinformatics_db.sqlite\"\n",
    "\n",
    "with sqlite3.connect(database_path) as conn:\n",
    "    with conn.cursor() as cursor:\n",
    "# Begin transaction\n",
    "        cursor.execute(\"UPDATE genomic_data SET expression_level = expression_level * 1.1 WHERE gene_id = 'GeneA'\")\n",
    "        cursor.execute(\"UPDATE genomic_data SET expression_level = expression_level * 1.2 WHERE gene_id = 'GeneB'\")\n",
    "# Commit transaction\n",
    "conn.commit()"
   ]
  },
  {
   "cell_type": "code",
   "execution_count": 195,
   "metadata": {},
   "outputs": [
    {
     "name": "stdout",
     "output_type": "stream",
     "text": [
      "An error occurred: no such table: genomic_data\n"
     ]
    }
   ],
   "source": [
    "import sqlite3\n",
    "\n",
    "database_path = \"bioinformatics_db.sqlite\"\n",
    "\n",
    "try:\n",
    "    conn = sqlite3.connect(database_path)\n",
    "    cursor = conn.cursor()\n",
    "\n",
    "    # Begin transaction\n",
    "    conn.execute(\"BEGIN TRANSACTION\")\n",
    "\n",
    "    # Update expressions\n",
    "    cursor.execute(\"UPDATE genomic_data SET expression_level = expression_level * 1.1 WHERE gene_id = 'GeneA'\")\n",
    "    cursor.execute(\"UPDATE genomic_data SET expression_level = expression_level * 1.2 WHERE gene_id = 'GeneB'\")\n",
    "\n",
    "    # Commit the transaction\n",
    "    conn.commit()\n",
    "\n",
    "    print(\"Transaction completed successfully.\")\n",
    "\n",
    "except sqlite3.Error as e:\n",
    "    # If there's an error, roll back the changes\n",
    "    conn.rollback()\n",
    "    print(f\"An error occurred: {e}\")\n",
    "\n",
    "finally:\n",
    "    # Always close the cursor and connection\n",
    "    if cursor:\n",
    "        cursor.close()\n",
    "    if conn:\n",
    "        conn.close()"
   ]
  },
  {
   "cell_type": "markdown",
   "metadata": {},
   "source": [
    "Custom Context Manager for File Locking"
   ]
  },
  {
   "cell_type": "code",
   "execution_count": null,
   "metadata": {},
   "outputs": [],
   "source": [
    "import filelock\n",
    "\n",
    "file_path = \"shared_file.txt\"\n",
    "\n",
    "def process_shared_file():\n",
    "    with filelock.FileLock(file_path + \".lock\"):\n",
    "        with open(file_path, \"a\") as shared_file:\n",
    "            shared_file.write(\"New data added by process.\\n\")\n",
    "\n",
    "# Use the context manager\n",
    "process_shared_file()"
   ]
  },
  {
   "cell_type": "markdown",
   "metadata": {},
   "source": [
    "Try-Except Blocks for Specific Exceptions"
   ]
  },
  {
   "cell_type": "code",
   "execution_count": null,
   "metadata": {},
   "outputs": [],
   "source": [
    "# create 'nonexistent_file.txt'\n",
    "try:\n",
    "# Code that may raise an IOError\n",
    "    with open(\"nonexistent_file.txt\", \"r\") as file:\n",
    "        content = file.read()\n",
    "except IOError as e:\n",
    "    print(f\"An IOError occurred: {e}\")"
   ]
  },
  {
   "cell_type": "markdown",
   "metadata": {},
   "source": [
    "Handling Multiple Exceptions"
   ]
  },
  {
   "cell_type": "code",
   "execution_count": null,
   "metadata": {},
   "outputs": [],
   "source": [
    "# create 'nonexistent_file.txt'\n",
    "try:\n",
    "# Code that may raise either FileNotFoundError or ValueError\n",
    "    file_path = \"nonexistent_file.txt\"\n",
    "    with open(file_path, \"r\") as file:\n",
    "        content = file.read()\n",
    "        value = int(\"invalid_value\")\n",
    "except FileNotFoundError as file_error:\n",
    "    print(f\"FileNotFoundError: {file_error}\")\n",
    "except ValueError as value_error:\n",
    "    print(f\"ValueError: {value_error}\")\n",
    "except Exception as general_error:\n",
    "    print(f\"An unexpected error occurred: {general_error}\")"
   ]
  },
  {
   "cell_type": "markdown",
   "metadata": {},
   "source": [
    "Using Finally Blocks"
   ]
  },
  {
   "cell_type": "code",
   "execution_count": 222,
   "metadata": {},
   "outputs": [
    {
     "name": "stdout",
     "output_type": "stream",
     "text": [
      "ZeroDivisionError: division by zero\n",
      "Cleanup operations, if any, are performed here.\n"
     ]
    }
   ],
   "source": [
    "try:\n",
    "# Code that may raise an exception\n",
    "    result = 10 / 0\n",
    "except ZeroDivisionError as zero_error:\n",
    "    print(f\"ZeroDivisionError: {zero_error}\")\n",
    "finally:\n",
    "    print(\"Cleanup operations, if any, are performed here.\")"
   ]
  },
  {
   "cell_type": "markdown",
   "metadata": {},
   "source": [
    "Custom Exception Classes"
   ]
  },
  {
   "cell_type": "code",
   "execution_count": 224,
   "metadata": {},
   "outputs": [
    {
     "name": "stdout",
     "output_type": "stream",
     "text": [
      "GenomicDataError: Invalid genomic data format.\n"
     ]
    }
   ],
   "source": [
    "class GenomicDataError(Exception):\n",
    "    pass\n",
    "\n",
    "try:\n",
    "# Code that may raise a GenomicDataError\n",
    "    raise GenomicDataError(\"Invalid genomic data format.\")\n",
    "except GenomicDataError as gen_error:\n",
    "    print(f\"GenomicDataError: {gen_error}\")"
   ]
  },
  {
   "cell_type": "code",
   "execution_count": null,
   "metadata": {},
   "outputs": [],
   "source": []
  }
 ],
 "metadata": {
  "kernelspec": {
   "display_name": "Python 3",
   "language": "python",
   "name": "python3"
  },
  "language_info": {
   "codemirror_mode": {
    "name": "ipython",
    "version": 3
   },
   "file_extension": ".py",
   "mimetype": "text/x-python",
   "name": "python",
   "nbconvert_exporter": "python",
   "pygments_lexer": "ipython3",
   "version": "3.9.2"
  }
 },
 "nbformat": 4,
 "nbformat_minor": 2
}
