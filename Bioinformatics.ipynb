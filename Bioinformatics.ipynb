{
 "cells": [
  {
   "cell_type": "code",
   "execution_count": 1,
   "metadata": {},
   "outputs": [],
   "source": [
    "name = \"Bioinformatics\"\n",
    "count = 42\n",
    "percentage = 75.5\n",
    "gene_list = [\"GeneA\", \"GeneB\", \"GeneC\"]"
   ]
  },
  {
   "cell_type": "code",
   "execution_count": 2,
   "metadata": {},
   "outputs": [
    {
     "name": "stdout",
     "output_type": "stream",
     "text": [
      "Short gene: GeneC\n"
     ]
    }
   ],
   "source": [
    "for gene in gene_list:\n",
    " if len(gene) > 5:\n",
    "  print(gene)\n",
    "else:\n",
    " print(\"Short gene:\", gene)"
   ]
  },
  {
   "cell_type": "code",
   "execution_count": 9,
   "metadata": {},
   "outputs": [],
   "source": [
    "def calculate_gc_content(sequence):\n",
    "    gc_count = sequence.count('G') + sequence.count('C')\n",
    "    total_bases = len(sequence)\n",
    "    gc_content = (gc_count / total_bases) * 100\n",
    "    return gc_content"
   ]
  },
  {
   "cell_type": "code",
   "execution_count": 3,
   "metadata": {},
   "outputs": [],
   "source": [
    "#with open('sequences.txt', 'r') as file:\n",
    "    #sequences = file.readlines()"
   ]
  },
  {
   "cell_type": "code",
   "execution_count": 1,
   "metadata": {},
   "outputs": [],
   "source": [
    "from Bio import SeqIO\n",
    "\n",
    "#sequence_record = SeqIO.read(\"sequence.fasta\", \"fasta\")"
   ]
  },
  {
   "cell_type": "code",
   "execution_count": 3,
   "metadata": {},
   "outputs": [],
   "source": [
    "# Bad\n",
    "#x = dna.count('G') + dna.count('C')\n",
    "\n",
    "# Good\n",
    "#gc_count = dna.count('G') + dna.count('C')"
   ]
  },
  {
   "cell_type": "code",
   "execution_count": 14,
   "metadata": {},
   "outputs": [],
   "source": [
    "# Bad\n",
    "#def analyze_sequence(data):\n",
    "        # ...\n",
    "\n",
    "# Good\n",
    "#def calculate_gc_content(sequence):\n",
    "    # ...\n",
    "\n",
    "#def analyze_sequence(data):\n",
    "    #gc_content = calculate_gc_content(data)\n",
    "    # ..."
   ]
  },
  {
   "cell_type": "code",
   "execution_count": 16,
   "metadata": {},
   "outputs": [],
   "source": [
    "def calculate_gc_content(sequence):\n",
    "    \"\"\"\n",
    "Calculate the GC content of a DNA sequence.\n",
    "\n",
    "Parameters:\n",
    "- sequence (str): DNA sequence.\n",
    "\n",
    "Returns:\n",
    "- float: GC content percentage.\n",
    "\"\"\"\n",
    "# ..."
   ]
  },
  {
   "cell_type": "code",
   "execution_count": 20,
   "metadata": {},
   "outputs": [],
   "source": [
    "from Bio import SeqIO\n",
    "\n",
    "# Reading a FASTA file\n",
    "fasta_file = \"sequence.fasta\"\n",
    "#sequence_record = SeqIO.read(fasta_file, \"fasta\")"
   ]
  },
  {
   "cell_type": "code",
   "execution_count": 21,
   "metadata": {},
   "outputs": [],
   "source": [
    "#user_sequence = input(\"Enter a DNA sequence: \")"
   ]
  },
  {
   "cell_type": "code",
   "execution_count": 1,
   "metadata": {},
   "outputs": [
    {
     "name": "stdout",
     "output_type": "stream",
     "text": [
      "GC Content: 45.2 %\n"
     ]
    }
   ],
   "source": [
    "gc_content = 45.2\n",
    "print(\"GC Content:\", gc_content, \"%\")"
   ]
  },
  {
   "cell_type": "code",
   "execution_count": 2,
   "metadata": {},
   "outputs": [
    {
     "name": "stdout",
     "output_type": "stream",
     "text": [
      "The expression level of GeneA is 2.5 units.\n"
     ]
    }
   ],
   "source": [
    "gene_name = \"GeneA\"\n",
    "expression_level = 2.5\n",
    "\n",
    "output_message = f\"The expression level of {gene_name} is {expression_level} units.\"\n",
    "print(output_message)"
   ]
  },
  {
   "cell_type": "code",
   "execution_count": 4,
   "metadata": {},
   "outputs": [
    {
     "name": "stdout",
     "output_type": "stream",
     "text": [
      "Gene\tExpression Level\n",
      "GeneA\t2.5\n",
      "GeneB\t3.1\n",
      "GeneC\t1.8\n"
     ]
    }
   ],
   "source": [
    "genes = [\"GeneA\", \"GeneB\", \"GeneC\"]\n",
    "expression_levels = [2.5, 3.1, 1.8]\n",
    "\n",
    "print(\"Gene\\tExpression Level\")\n",
    "for gene, level in zip(genes, expression_levels):\n",
    "    print(f\"{gene}\\t{level}\")"
   ]
  },
  {
   "cell_type": "code",
   "execution_count": 11,
   "metadata": {},
   "outputs": [],
   "source": [
    "output_file = \"results.txt\"\n",
    "with open(output_file, 'w') as file:\n",
    "    file.write(f\"Gene\\tExpression Level\\n\")\n",
    "    for gene, level in zip(genes, expression_levels):\n",
    "        file.write(f\"{gene}\\t{level}\\n\")"
   ]
  },
  {
   "cell_type": "code",
   "execution_count": 12,
   "metadata": {},
   "outputs": [
    {
     "name": "stdout",
     "output_type": "stream",
     "text": [
      "The genome of Homo sapiens contains 1500 genes.\n"
     ]
    }
   ],
   "source": [
    "organism = \"Homo sapiens\"\n",
    "num_genes = 1500\n",
    "\n",
    "summary_message = f\"The genome of {organism} contains {num_genes} genes.\"\n",
    "print(summary_message)\n",
    "\n"
   ]
  },
  {
   "cell_type": "markdown",
   "metadata": {},
   "source": [
    "# Mathematical Operations in Bioinformatics:"
   ]
  },
  {
   "cell_type": "markdown",
   "metadata": {},
   "source": [
    "GC Content Calculation"
   ]
  },
  {
   "cell_type": "code",
   "execution_count": 15,
   "metadata": {},
   "outputs": [
    {
     "name": "stdout",
     "output_type": "stream",
     "text": [
      "GC Content: 52.94%\n"
     ]
    }
   ],
   "source": [
    "def calculate_gc_content(sequence):\n",
    "    gc_count = sequence.count('G') + sequence.count('C')\n",
    "    total_bases = len(sequence)\n",
    "    gc_content = (gc_count / total_bases) * 100\n",
    "    return gc_content\n",
    "\n",
    "# Example\n",
    "dna_sequence = \"ATGCGATCGATCGTACG\"\n",
    "gc_percentage = calculate_gc_content(dna_sequence)\n",
    "print(f\"GC Content: {gc_percentage:.2f}%\")"
   ]
  },
  {
   "cell_type": "markdown",
   "metadata": {},
   "source": [
    "Transcription Factor Binding Site Analysis"
   ]
  },
  {
   "cell_type": "code",
   "execution_count": 20,
   "metadata": {},
   "outputs": [
    {
     "name": "stdout",
     "output_type": "stream",
     "text": [
      "Motif 'CTAG' found at positions: [9, 13, 17]\n"
     ]
    }
   ],
   "source": [
    "def find_motif_occurrences(sequence, motif):\n",
    "    occurrences = []\n",
    "    i = sequence.find(motif)\n",
    "    while i != -1:\n",
    "        occurrences.append(i)\n",
    "        i = sequence.find(motif, i + 1)\n",
    "    return occurrences\n",
    "\n",
    "# Example\n",
    "gene_sequence = \"ATGCGTACGCTAGCTAGCTAGCG\"\n",
    "motif = \"CTAG\"\n",
    "motif_occurrences = find_motif_occurrences(gene_sequence, motif)\n",
    "print(f\"Motif '{motif}' found at positions: {motif_occurrences}\")"
   ]
  },
  {
   "cell_type": "code",
   "execution_count": 23,
   "metadata": {},
   "outputs": [
    {
     "name": "stdout",
     "output_type": "stream",
     "text": [
      "Defaulting to user installation because normal site-packages is not writeable\n",
      "Requirement already satisfied: numpy in /home/tbkhori_/.local/lib/python3.9/site-packages (2.0.0)\n",
      "Collecting numpy\n",
      "  Downloading numpy-2.0.1-cp39-cp39-manylinux_2_17_x86_64.manylinux2014_x86_64.whl.metadata (60 kB)\n",
      "\u001b[2K     \u001b[90m━━━━━━━━━━━━━━━━━━━━━━━━━━━━━━━━━━━━━━━━\u001b[0m \u001b[32m60.9/60.9 kB\u001b[0m \u001b[31m1.8 MB/s\u001b[0m eta \u001b[36m0:00:00\u001b[0m\n",
      "\u001b[?25hRequirement already satisfied: scipy in /usr/lib/python3/dist-packages (1.6.0)\n",
      "Collecting scipy\n",
      "  Downloading scipy-1.13.1-cp39-cp39-manylinux_2_17_x86_64.manylinux2014_x86_64.whl.metadata (60 kB)\n",
      "\u001b[2K     \u001b[90m━━━━━━━━━━━━━━━━━━━━━━━━━━━━━━━━━━━━━━━━\u001b[0m \u001b[32m60.6/60.6 kB\u001b[0m \u001b[31m6.7 MB/s\u001b[0m eta \u001b[36m0:00:00\u001b[0m\n",
      "\u001b[?25hDownloading numpy-2.0.1-cp39-cp39-manylinux_2_17_x86_64.manylinux2014_x86_64.whl (19.5 MB)\n",
      "\u001b[2K   \u001b[90m━━━━━━━━━━━━━━━━━━━━━━━━━━━━━━━━━━━━━━━━\u001b[0m \u001b[32m19.5/19.5 MB\u001b[0m \u001b[31m15.8 MB/s\u001b[0m eta \u001b[36m0:00:00\u001b[0m00:01\u001b[0m00:01\u001b[0m\n",
      "\u001b[?25hDownloading scipy-1.13.1-cp39-cp39-manylinux_2_17_x86_64.manylinux2014_x86_64.whl (38.6 MB)\n",
      "\u001b[2K   \u001b[90m━━━━━━━━━━━━━━━━━━━━━━━━━━━━━━━━━━━━━━━━\u001b[0m \u001b[32m38.6/38.6 MB\u001b[0m \u001b[31m9.9 MB/s\u001b[0m eta \u001b[36m0:00:00\u001b[0m:00:01\u001b[0m00:01\u001b[0m\n",
      "\u001b[?25h\u001b[33mWARNING: Error parsing dependencies of gpg: Invalid version: '1.14.0-unknown'\u001b[0m\u001b[33m\n",
      "\u001b[0m\u001b[33mWARNING: Error parsing dependencies of wfuzz: Expected end or semicolon (after version specifier)\n",
      "    pyparsing>=2.4*\n",
      "             ~~~~~^\u001b[0m\u001b[33m\n",
      "\u001b[0mInstalling collected packages: numpy, scipy\n",
      "  Attempting uninstall: numpy\n",
      "    Found existing installation: numpy 2.0.0\n",
      "    Uninstalling numpy-2.0.0:\n",
      "      Successfully uninstalled numpy-2.0.0\n",
      "Successfully installed numpy-2.0.1 scipy-1.13.1\n"
     ]
    }
   ],
   "source": [
    "!pip install --upgrade numpy scipy"
   ]
  },
  {
   "cell_type": "markdown",
   "metadata": {},
   "source": [
    "Statistical Analysis"
   ]
  },
  {
   "cell_type": "code",
   "execution_count": 1,
   "metadata": {},
   "outputs": [
    {
     "name": "stdout",
     "output_type": "stream",
     "text": [
      "Mean Condition 1: 2.82\n",
      "Mean Condition 2: 2.12\n",
      "Standard Deviation Condition 1: 0.21\n",
      "Standard Deviation Condition 2: 0.23\n",
      "T-statistic: 4.45\n",
      "P-value: 0.0022\n"
     ]
    }
   ],
   "source": [
    "import numpy as np\n",
    "import scipy\n",
    "from scipy.stats import ttest_ind\n",
    "\n",
    "# Example: Gene expression levels in two conditions\n",
    "condition_1 = np.array([2.5, 3.1, 2.8, 3.0, 2.7])\n",
    "condition_2 = np.array([1.8, 2.2, 2.0, 2.5, 2.1])\n",
    "\n",
    "# Mean and standard deviation\n",
    "mean_condition_1 = np.mean(condition_1)\n",
    "mean_condition_2 = np.mean(condition_2)\n",
    "\n",
    "std_dev_condition_1 = np.std(condition_1)\n",
    "std_dev_condition_2 = np.std(condition_2)\n",
    "\n",
    "# Independent t-test\n",
    "t_stat, p_value = ttest_ind(condition_1, condition_2)\n",
    "\n",
    "print(f\"Mean Condition 1: {mean_condition_1:.2f}\")\n",
    "print(f\"Mean Condition 2: {mean_condition_2:.2f}\")\n",
    "print(f\"Standard Deviation Condition 1: {std_dev_condition_1:.2f}\")\n",
    "print(f\"Standard Deviation Condition 2: {std_dev_condition_2:.2f}\")\n",
    "print(f\"T-statistic: {t_stat:.2f}\")\n",
    "print(f\"P-value: {p_value:.4f}\")"
   ]
  },
  {
   "cell_type": "markdown",
   "metadata": {},
   "source": [
    "Protein Folding"
   ]
  },
  {
   "cell_type": "code",
   "execution_count": 3,
   "metadata": {},
   "outputs": [
    {
     "name": "stdout",
     "output_type": "stream",
     "text": [
      "Protein Folding Energy: 0.0024\n"
     ]
    }
   ],
   "source": [
    "import math\n",
    "\n",
    "def calculate_protein_folding_energy(temperature, entropy_change):\n",
    "    gas_constant = 8.314 # J/(mol*K)\n",
    "    delta_g = -temperature * entropy_change\n",
    "    folding_energy = math.exp(-delta_g / (gas_constant * temperature))\n",
    "    return folding_energy\n",
    "\n",
    "# Example\n",
    "temperature = 298 # in Kelvin\n",
    "entropy_change = -50 # in J/(mol*K)\n",
    "folding_energy = calculate_protein_folding_energy(temperature, entropy_change)\n",
    "print(f\"Protein Folding Energy: {folding_energy:.4f}\")"
   ]
  },
  {
   "cell_type": "markdown",
   "metadata": {},
   "source": [
    "# String Manipulation Techniques in Bioinformatics:"
   ]
  },
  {
   "cell_type": "markdown",
   "metadata": {},
   "source": [
    "Sequence Alignment"
   ]
  },
  {
   "cell_type": "code",
   "execution_count": 4,
   "metadata": {},
   "outputs": [
    {
     "name": "stdout",
     "output_type": "stream",
     "text": [
      "Sequence Alignment:\n",
      "ATGCGTA-CGCTAGCTAGC-TAGCG\n",
      "||||| | ||  |  |  | || ||\n",
      "ATGCG-ATCG--A--T--CGTA-CG\n",
      "  Score=15\n",
      "\n"
     ]
    },
    {
     "name": "stderr",
     "output_type": "stream",
     "text": [
      "/home/tbkhori_/.local/lib/python3.9/site-packages/Bio/pairwise2.py:278: BiopythonDeprecationWarning: Bio.pairwise2 has been deprecated, and we intend to remove it in a future release of Biopython. As an alternative, please consider using Bio.Align.PairwiseAligner as a replacement, and contact the Biopython developers if you still need the Bio.pairwise2 module.\n",
      "  warnings.warn(\n"
     ]
    }
   ],
   "source": [
    "from Bio import pairwise2\n",
    "from Bio.pairwise2 import format_alignment\n",
    "\n",
    "sequence_1 = \"ATGCGTACGCTAGCTAGCTAGCG\"\n",
    "sequence_2 = \"ATGCGATCGATCGTACG\"\n",
    "\n",
    "alignments = pairwise2.align.globalxx(sequence_1, sequence_2, one_alignment_only=True)\n",
    "best_alignment = alignments[0]\n",
    "\n",
    "print(\"Sequence Alignment:\")\n",
    "print(format_alignment(*best_alignment))"
   ]
  },
  {
   "cell_type": "markdown",
   "metadata": {},
   "source": [
    "Reverse Complement"
   ]
  },
  {
   "cell_type": "code",
   "execution_count": 5,
   "metadata": {},
   "outputs": [
    {
     "name": "stdout",
     "output_type": "stream",
     "text": [
      "Original Sequence: ATGCGTACGCTAGCTAGCTAGCG\n",
      "Reverse Complement: CGCTAGCTAGCTAGCGTACGCAT\n"
     ]
    }
   ],
   "source": [
    "def reverse_complement(sequence):\n",
    "    complement = {'A': 'T', 'T': 'A', 'C': 'G', 'G': 'C'}\n",
    "    return ''.join(complement[base] for base in reversed(sequence))\n",
    "\n",
    "# Example\n",
    "dna_sequence = \"ATGCGTACGCTAGCTAGCTAGCG\"\n",
    "rev_comp_sequence = reverse_complement(dna_sequence)\n",
    "print(f\"Original Sequence: {dna_sequence}\")\n",
    "print(f\"Reverse Complement: {rev_comp_sequence}\")"
   ]
  }
 ],
 "metadata": {
  "kernelspec": {
   "display_name": "Python 3",
   "language": "python",
   "name": "python3"
  },
  "language_info": {
   "codemirror_mode": {
    "name": "ipython",
    "version": 3
   },
   "file_extension": ".py",
   "mimetype": "text/x-python",
   "name": "python",
   "nbconvert_exporter": "python",
   "pygments_lexer": "ipython3",
   "version": "3.9.2"
  }
 },
 "nbformat": 4,
 "nbformat_minor": 2
}
