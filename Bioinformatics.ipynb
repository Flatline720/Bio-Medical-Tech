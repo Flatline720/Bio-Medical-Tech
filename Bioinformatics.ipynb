{
 "cells": [
  {
   "cell_type": "code",
   "execution_count": 1,
   "metadata": {},
   "outputs": [],
   "source": [
    "name = \"Bioinformatics\"\n",
    "count = 42\n",
    "percentage = 75.5\n",
    "gene_list = [\"GeneA\", \"GeneB\", \"GeneC\"]"
   ]
  },
  {
   "cell_type": "code",
   "execution_count": 2,
   "metadata": {},
   "outputs": [
    {
     "name": "stdout",
     "output_type": "stream",
     "text": [
      "Short gene: GeneC\n"
     ]
    }
   ],
   "source": [
    "for gene in gene_list:\n",
    " if len(gene) > 5:\n",
    "  print(gene)\n",
    "else:\n",
    " print(\"Short gene:\", gene)"
   ]
  },
  {
   "cell_type": "code",
   "execution_count": 9,
   "metadata": {},
   "outputs": [],
   "source": [
    "def calculate_gc_content(sequence):\n",
    "    gc_count = sequence.count('G') + sequence.count('C')\n",
    "    total_bases = len(sequence)\n",
    "    gc_content = (gc_count / total_bases) * 100\n",
    "    return gc_content"
   ]
  },
  {
   "cell_type": "code",
   "execution_count": 3,
   "metadata": {},
   "outputs": [],
   "source": [
    "#with open('sequences.txt', 'r') as file:\n",
    "    #sequences = file.readlines()"
   ]
  },
  {
   "cell_type": "code",
   "execution_count": 1,
   "metadata": {},
   "outputs": [],
   "source": [
    "from Bio import SeqIO\n",
    "\n",
    "#sequence_record = SeqIO.read(\"sequence.fasta\", \"fasta\")"
   ]
  },
  {
   "cell_type": "code",
   "execution_count": 3,
   "metadata": {},
   "outputs": [],
   "source": [
    "# Bad\n",
    "#x = dna.count('G') + dna.count('C')\n",
    "\n",
    "# Good\n",
    "#gc_count = dna.count('G') + dna.count('C')"
   ]
  },
  {
   "cell_type": "code",
   "execution_count": 14,
   "metadata": {},
   "outputs": [],
   "source": [
    "# Bad\n",
    "#def analyze_sequence(data):\n",
    "        # ...\n",
    "\n",
    "# Good\n",
    "#def calculate_gc_content(sequence):\n",
    "    # ...\n",
    "\n",
    "#def analyze_sequence(data):\n",
    "    #gc_content = calculate_gc_content(data)\n",
    "    # ..."
   ]
  },
  {
   "cell_type": "code",
   "execution_count": 16,
   "metadata": {},
   "outputs": [],
   "source": [
    "def calculate_gc_content(sequence):\n",
    "    \"\"\"\n",
    "Calculate the GC content of a DNA sequence.\n",
    "\n",
    "Parameters:\n",
    "- sequence (str): DNA sequence.\n",
    "\n",
    "Returns:\n",
    "- float: GC content percentage.\n",
    "\"\"\"\n",
    "# ..."
   ]
  },
  {
   "cell_type": "code",
   "execution_count": 20,
   "metadata": {},
   "outputs": [],
   "source": [
    "from Bio import SeqIO\n",
    "\n",
    "# Reading a FASTA file\n",
    "fasta_file = \"sequence.fasta\"\n",
    "#sequence_record = SeqIO.read(fasta_file, \"fasta\")"
   ]
  },
  {
   "cell_type": "code",
   "execution_count": 21,
   "metadata": {},
   "outputs": [],
   "source": [
    "#user_sequence = input(\"Enter a DNA sequence: \")"
   ]
  },
  {
   "cell_type": "code",
   "execution_count": 1,
   "metadata": {},
   "outputs": [
    {
     "name": "stdout",
     "output_type": "stream",
     "text": [
      "GC Content: 45.2 %\n"
     ]
    }
   ],
   "source": [
    "gc_content = 45.2\n",
    "print(\"GC Content:\", gc_content, \"%\")"
   ]
  },
  {
   "cell_type": "code",
   "execution_count": 2,
   "metadata": {},
   "outputs": [
    {
     "name": "stdout",
     "output_type": "stream",
     "text": [
      "The expression level of GeneA is 2.5 units.\n"
     ]
    }
   ],
   "source": [
    "gene_name = \"GeneA\"\n",
    "expression_level = 2.5\n",
    "\n",
    "output_message = f\"The expression level of {gene_name} is {expression_level} units.\"\n",
    "print(output_message)"
   ]
  },
  {
   "cell_type": "code",
   "execution_count": 4,
   "metadata": {},
   "outputs": [
    {
     "name": "stdout",
     "output_type": "stream",
     "text": [
      "Gene\tExpression Level\n",
      "GeneA\t2.5\n",
      "GeneB\t3.1\n",
      "GeneC\t1.8\n"
     ]
    }
   ],
   "source": [
    "genes = [\"GeneA\", \"GeneB\", \"GeneC\"]\n",
    "expression_levels = [2.5, 3.1, 1.8]\n",
    "\n",
    "print(\"Gene\\tExpression Level\")\n",
    "for gene, level in zip(genes, expression_levels):\n",
    "    print(f\"{gene}\\t{level}\")"
   ]
  },
  {
   "cell_type": "code",
   "execution_count": 11,
   "metadata": {},
   "outputs": [],
   "source": [
    "output_file = \"results.txt\"\n",
    "with open(output_file, 'w') as file:\n",
    "    file.write(f\"Gene\\tExpression Level\\n\")\n",
    "    for gene, level in zip(genes, expression_levels):\n",
    "        file.write(f\"{gene}\\t{level}\\n\")"
   ]
  }
 ],
 "metadata": {
  "kernelspec": {
   "display_name": "Python 3",
   "language": "python",
   "name": "python3"
  },
  "language_info": {
   "codemirror_mode": {
    "name": "ipython",
    "version": 3
   },
   "file_extension": ".py",
   "mimetype": "text/x-python",
   "name": "python",
   "nbconvert_exporter": "python",
   "pygments_lexer": "ipython3",
   "version": "3.9.2"
  }
 },
 "nbformat": 4,
 "nbformat_minor": 2
}
