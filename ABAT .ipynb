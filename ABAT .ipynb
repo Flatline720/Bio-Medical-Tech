{
 "cells": [
  {
   "cell_type": "markdown",
   "metadata": {},
   "source": [
    "# ANALYSIS OF AUTISM ASSOCIATED GENE; GENBANK CODE: BC031413"
   ]
  },
  {
   "cell_type": "markdown",
   "metadata": {},
   "source": [
    "# ABAT 4-aminobutyrate aminotransferase [ Homo sapiens (human) ]\n",
    "Gene ID: 18, updated on 29-Jul-2024"
   ]
  },
  {
   "cell_type": "markdown",
   "metadata": {},
   "source": [
    "Barnby G, Abbott A, Sykes N, Morris A, Weeks DE, Mott R, Lamb J, Bailey AJ, Monaco AP; International Molecular Genetics Study of Autism Consortium. Candidate-gene screening and association analysis at the autism-susceptibility locus on chromosome 16p: evidence of association at GRIN2A and ABAT. Am J Hum Genet. 2005 Jun;76(6):950-66. doi: 10.1086/430454. Epub 2005 Apr 13. PMID: 15830322; PMCID: PMC1196454."
   ]
  },
  {
   "cell_type": "code",
   "execution_count": 3,
   "metadata": {},
   "outputs": [
    {
     "name": "stdout",
     "output_type": "stream",
     "text": [
      "GC content of gene.fna - NC_000016.10:8674617-8784570: 47.34%\n",
      "GC content of gene.fna - NC_060940.1:8707289-8817330: 47.32%\n",
      "GC content of rna.fna - XM_047433688.1: 47.18%\n",
      "GC content of rna.fna - NM_001386602.1: 49.84%\n",
      "GC content of rna.fna - NM_001386615.1: 49.87%\n",
      "GC content of rna.fna - NM_020686.6: 49.74%\n",
      "GC content of rna.fna - NM_001386609.1: 49.73%\n",
      "GC content of rna.fna - NM_001386605.1: 49.83%\n",
      "GC content of rna.fna - NM_001386607.1: 49.64%\n",
      "GC content of rna.fna - NM_001386608.1: 49.62%\n",
      "GC content of rna.fna - NM_001386610.1: 49.83%\n",
      "GC content of rna.fna - NM_001386614.1: 49.92%\n",
      "GC content of rna.fna - NM_001386611.1: 49.34%\n",
      "GC content of rna.fna - NM_001386612.1: 49.23%\n",
      "GC content of rna.fna - NM_001386603.1: 49.92%\n",
      "GC content of rna.fna - NM_001386600.1: 50.39%\n",
      "GC content of rna.fna - XM_047433687.1: 47.38%\n",
      "GC content of rna.fna - NM_001386604.1: 50.03%\n",
      "GC content of rna.fna - XM_047433685.1: 47.65%\n",
      "GC content of rna.fna - XM_047433686.1: 47.28%\n",
      "GC content of rna.fna - NM_000663.5: 49.92%\n",
      "GC content of rna.fna - NM_001386606.1: 49.83%\n",
      "GC content of rna.fna - NM_001386613.1: 49.44%\n",
      "GC content of rna.fna - NM_001386601.1: 49.57%\n",
      "GC content of rna.fna - NM_001386616.1: 49.53%\n",
      "GC content of rna.fna - NM_001127448.2: 49.47%\n",
      "GC content of rna.fna - XM_054379728.1: 47.16%\n",
      "GC content of rna.fna - XM_054379727.1: 47.36%\n",
      "GC content of rna.fna - XM_054379725.1: 47.64%\n",
      "GC content of rna.fna - XM_054379726.1: 47.26%\n"
     ]
    }
   ],
   "source": [
    "import os\n",
    "from Bio import SeqIO\n",
    "from Bio.SeqUtils import gc_fraction\n",
    "\n",
    "fasta_directory = \"/home/tbkhori_/Desktop/LockJaw/bio/FASTA_Files/ABAT_datasets/ncbi_dataset/data\"\n",
    "\n",
    "# Check if the directory exists\n",
    "if not os.path.exists(fasta_directory):\n",
    "    print(f\"Error: The directory '{fasta_directory}' does not exist.\")\n",
    "else:\n",
    "    fasta_files_found = False\n",
    "    for filename in os.listdir(fasta_directory):\n",
    "        if filename.endswith((\".fasta\", \".fa\", \".fna\")):  # Correct use of endswith with tuple\n",
    "            filepath = os.path.join(fasta_directory, filename)\n",
    "            try:\n",
    "                for sequence_record in SeqIO.parse(filepath, \"fasta\"):\n",
    "                    gc_content = gc_fraction(sequence_record.seq) * 100  # Convert to percentage\n",
    "                    print(f\"GC content of {filename} - {sequence_record.id}: {gc_content:.2f}%\")\n",
    "                    fasta_files_found = True\n",
    "            except Exception as e:\n",
    "                print(f\"Error processing {filename}: {e}\")\n",
    "    \n",
    "    if not fasta_files_found:\n",
    "        print(\"No FASTA files were found or processed in the specified directory.\")"
   ]
  },
  {
   "cell_type": "code",
   "execution_count": null,
   "metadata": {},
   "outputs": [],
   "source": []
  }
 ],
 "metadata": {
  "kernelspec": {
   "display_name": "Python 3",
   "language": "python",
   "name": "python3"
  },
  "language_info": {
   "codemirror_mode": {
    "name": "ipython",
    "version": 3
   },
   "file_extension": ".py",
   "mimetype": "text/x-python",
   "name": "python",
   "nbconvert_exporter": "python",
   "pygments_lexer": "ipython3",
   "version": "3.9.2"
  }
 },
 "nbformat": 4,
 "nbformat_minor": 2
}
